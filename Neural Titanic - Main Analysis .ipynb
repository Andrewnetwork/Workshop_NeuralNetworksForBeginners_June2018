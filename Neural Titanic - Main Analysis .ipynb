{
 "cells": [
  {
   "cell_type": "markdown",
   "metadata": {
    "_uuid": "0b17036d711907c0f0c129f6cfa2de547442c74d"
   },
   "source": [
    "$$ \\huge\\text{Neural Titanic} $$\n",
    "\n",
    "$$ \\small\\text{Titanic: Machine Learning from Disaster}$$\n",
    "\n",
    "$$ \\large\\text{Andrew Ribeiro - June 2018 -  Andrew@kexp.io }$$\n",
    "![Titanic](notebook_images/4679-004-8C0793EF.jpg)\n",
    "**Index**\n",
    "1. Introduction \n",
    "    1. About this Notebook \n",
    "    2. Competition Overview\n",
    "    3. Key Challenges of Using a Neural Network\n",
    "2. Import Libraries and Load Data\n",
    "3. Exploratory Data Analysis ( EDA )\n",
    "    1. Visualizations \n",
    "    2. Feature Engineering\n",
    "    3. Naive Baselines\n",
    "4. Extract, Transform, and Load ( ETL )\n",
    "    1. Preprocess Data\n",
    "    2. Validation/Training Split\n",
    "5. Modeling\n",
    "    1. Linear Regression \n",
    "    2. Logistic Regression\n",
    "    3. SVM\n",
    "    4. Gradient Boosting \n",
    "    5. Neural Network\n",
    "6. Evaluation\n",
    "    1. Learning Curves \n",
    "    2. Cross-Validation \n",
    "    3. Confusion Matrix\n",
    "7. Application to Test Set\n",
    "8. Next Steps"
   ]
  },
  {
   "cell_type": "markdown",
   "metadata": {
    "_uuid": "584c3b3f16189a49e4b35ba25f8cc843f748324c"
   },
   "source": [
    "\n",
    "# 1. Introduction\n",
    "**About this Notebook **\n",
    "\n",
    "This notebook explores the process of using a neural network to produce a predictive model of the titanic dataset hosted on kaggle. There are many steps in this process that must not be overlooked or it will be more difficult to optimize the performance of your network. In particular, taking time to do EDA, feature engineering, and be considerate when preprocessing the data will stave of many potential modeling headaches later on. It is our aim to make you comfortable with the basics of each of these stages, so you can effectively use neural networks on your data. \n",
    "\n",
    "Learning Objectives:\n",
    "* Learn how to use neural networks on small datasets. \n",
    "* Become familiar with the data science process. \n",
    "\n",
    "\n",
    "**Competition Overview  **\n",
    "\n",
    "The sinking of the RMS Titanic is one of the most infamous shipwrecks in history.  On April 15, 1912, during her maiden voyage, the Titanic sank after colliding with an iceberg, killing 1502 out of 2224 passengers and crew. This sensational tragedy shocked the international community and led to better safety regulations for ships.\n",
    "\n",
    "One of the reasons that the shipwreck led to such loss of life was that there were not enough lifeboats for the passengers and crew. Although there was some element of luck involved in surviving the sinking, some groups of people were more likely to survive than others, such as women, children, and the upper-class.\n",
    "\n",
    "In this challenge, we ask you to complete the analysis of what sorts of people were likely to survive. In particular, we ask you to apply the tools of machine learning to predict which passengers survived the tragedy.\n",
    "\n",
    "[Kaggle Competition Source](https://www.kaggle.com/c/titanic)\n",
    "\n",
    "**Key Challenges of Using a Neural Network**\n",
    "\n",
    "The number of parameters a statistical model has generally determines the range of functions it can represent. We call this range the *capacity* of a model. Models with greater capacity have a tendency to overfit the training data. Neural Networks are the epitome of high-capacity models. High-capacity models generally don't do well on small datasets. Large datasets balance out a neural network's tendency to overfit. With small datasets, we must pay great attention to how we regularize the network in order to fight this overfitting behavior. While there are many ways of doing this, in this notebook we will be using the dropout method. \n",
    "\n",
    "The Titanic data is a very small dataset of about 800 or so samples. This means our success is dependent upon proper regularization of the network. Lower capacity models like random forests or svms would do much better out of the box because they will not overfit as reaidly; however, if we tune the network well, we can generally beat their performance. \n",
    "\n",
    "\n",
    "# 2. Import Libraries and Load Data"
   ]
  },
  {
   "cell_type": "code",
   "execution_count": 106,
   "metadata": {
    "_cell_guid": "b1076dfc-b9ad-4769-8c92-a6c4dae69d19",
    "_uuid": "8f2839f25d086af736a60e9eeb907d3b93b6e0e5"
   },
   "outputs": [],
   "source": [
    "# This Python 3 environment comes with many helpful analytics libraries installed\n",
    "# It is defined by the kaggle/python docker image: https://github.com/kaggle/docker-python\n",
    "# For example, here's several helpful packages to load in \n",
    "\n",
    "# General Libraries \n",
    "import numpy as np # linear algebra\n",
    "import pandas as pd # data processing, CSV file I/O (e.g. pd.read_csv)\n",
    "import matplotlib.pyplot as plt\n",
    "\n",
    "# Scikit-Learn Libraries\n",
    "from sklearn.metrics import log_loss\n",
    "from sklearn.metrics import mean_squared_error\n",
    "from sklearn.model_selection import StratifiedKFold\n",
    "from sklearn.preprocessing import MinMaxScaler\n",
    "from sklearn.model_selection import train_test_split\n",
    "\n",
    "# Keras Libraries \n",
    "from keras.callbacks import ModelCheckpoint,EarlyStopping\n",
    "from keras.models import load_model\n",
    "from keras.layers import Input, Dense, Dropout\n",
    "from keras.models import Model\n",
    "\n",
    "# Interactive Widgets\n",
    "from ipywidgets import interact\n",
    "from IPython.display import display\n",
    "\n",
    "# Load Data\n",
    "trainDF = pd.read_csv(\"./data/titanic/train.csv\")\n",
    "testDF = pd.read_csv(\"./data/titanic/test.csv\")"
   ]
  },
  {
   "cell_type": "markdown",
   "metadata": {},
   "source": [
    "# 2. Exploratory Data Analysis ( EDA )\n",
    "We will begin by exploring the dataset. Getting a feel for the data helps us determine what features we want to use in our model and how we may process them in the ETL stage. In addition, we will compute some baselines based on our initial understanding of the data and use them later when we are evaluating our model's performance. "
   ]
  },
  {
   "cell_type": "code",
   "execution_count": 3,
   "metadata": {},
   "outputs": [
    {
     "data": {
      "text/html": [
       "<div>\n",
       "<style scoped>\n",
       "    .dataframe tbody tr th:only-of-type {\n",
       "        vertical-align: middle;\n",
       "    }\n",
       "\n",
       "    .dataframe tbody tr th {\n",
       "        vertical-align: top;\n",
       "    }\n",
       "\n",
       "    .dataframe thead th {\n",
       "        text-align: right;\n",
       "    }\n",
       "</style>\n",
       "<table border=\"1\" class=\"dataframe\">\n",
       "  <thead>\n",
       "    <tr style=\"text-align: right;\">\n",
       "      <th></th>\n",
       "      <th>PassengerId</th>\n",
       "      <th>Survived</th>\n",
       "      <th>Pclass</th>\n",
       "      <th>Name</th>\n",
       "      <th>Sex</th>\n",
       "      <th>Age</th>\n",
       "      <th>SibSp</th>\n",
       "      <th>Parch</th>\n",
       "      <th>Ticket</th>\n",
       "      <th>Fare</th>\n",
       "      <th>Cabin</th>\n",
       "      <th>Embarked</th>\n",
       "    </tr>\n",
       "  </thead>\n",
       "  <tbody>\n",
       "    <tr>\n",
       "      <th>0</th>\n",
       "      <td>1</td>\n",
       "      <td>0</td>\n",
       "      <td>3</td>\n",
       "      <td>Braund, Mr. Owen Harris</td>\n",
       "      <td>male</td>\n",
       "      <td>22.0</td>\n",
       "      <td>1</td>\n",
       "      <td>0</td>\n",
       "      <td>A/5 21171</td>\n",
       "      <td>7.2500</td>\n",
       "      <td>NaN</td>\n",
       "      <td>S</td>\n",
       "    </tr>\n",
       "    <tr>\n",
       "      <th>1</th>\n",
       "      <td>2</td>\n",
       "      <td>1</td>\n",
       "      <td>1</td>\n",
       "      <td>Cumings, Mrs. John Bradley (Florence Briggs Th...</td>\n",
       "      <td>female</td>\n",
       "      <td>38.0</td>\n",
       "      <td>1</td>\n",
       "      <td>0</td>\n",
       "      <td>PC 17599</td>\n",
       "      <td>71.2833</td>\n",
       "      <td>C85</td>\n",
       "      <td>C</td>\n",
       "    </tr>\n",
       "    <tr>\n",
       "      <th>2</th>\n",
       "      <td>3</td>\n",
       "      <td>1</td>\n",
       "      <td>3</td>\n",
       "      <td>Heikkinen, Miss. Laina</td>\n",
       "      <td>female</td>\n",
       "      <td>26.0</td>\n",
       "      <td>0</td>\n",
       "      <td>0</td>\n",
       "      <td>STON/O2. 3101282</td>\n",
       "      <td>7.9250</td>\n",
       "      <td>NaN</td>\n",
       "      <td>S</td>\n",
       "    </tr>\n",
       "    <tr>\n",
       "      <th>3</th>\n",
       "      <td>4</td>\n",
       "      <td>1</td>\n",
       "      <td>1</td>\n",
       "      <td>Futrelle, Mrs. Jacques Heath (Lily May Peel)</td>\n",
       "      <td>female</td>\n",
       "      <td>35.0</td>\n",
       "      <td>1</td>\n",
       "      <td>0</td>\n",
       "      <td>113803</td>\n",
       "      <td>53.1000</td>\n",
       "      <td>C123</td>\n",
       "      <td>S</td>\n",
       "    </tr>\n",
       "    <tr>\n",
       "      <th>4</th>\n",
       "      <td>5</td>\n",
       "      <td>0</td>\n",
       "      <td>3</td>\n",
       "      <td>Allen, Mr. William Henry</td>\n",
       "      <td>male</td>\n",
       "      <td>35.0</td>\n",
       "      <td>0</td>\n",
       "      <td>0</td>\n",
       "      <td>373450</td>\n",
       "      <td>8.0500</td>\n",
       "      <td>NaN</td>\n",
       "      <td>S</td>\n",
       "    </tr>\n",
       "    <tr>\n",
       "      <th>5</th>\n",
       "      <td>6</td>\n",
       "      <td>0</td>\n",
       "      <td>3</td>\n",
       "      <td>Moran, Mr. James</td>\n",
       "      <td>male</td>\n",
       "      <td>NaN</td>\n",
       "      <td>0</td>\n",
       "      <td>0</td>\n",
       "      <td>330877</td>\n",
       "      <td>8.4583</td>\n",
       "      <td>NaN</td>\n",
       "      <td>Q</td>\n",
       "    </tr>\n",
       "    <tr>\n",
       "      <th>6</th>\n",
       "      <td>7</td>\n",
       "      <td>0</td>\n",
       "      <td>1</td>\n",
       "      <td>McCarthy, Mr. Timothy J</td>\n",
       "      <td>male</td>\n",
       "      <td>54.0</td>\n",
       "      <td>0</td>\n",
       "      <td>0</td>\n",
       "      <td>17463</td>\n",
       "      <td>51.8625</td>\n",
       "      <td>E46</td>\n",
       "      <td>S</td>\n",
       "    </tr>\n",
       "    <tr>\n",
       "      <th>7</th>\n",
       "      <td>8</td>\n",
       "      <td>0</td>\n",
       "      <td>3</td>\n",
       "      <td>Palsson, Master. Gosta Leonard</td>\n",
       "      <td>male</td>\n",
       "      <td>2.0</td>\n",
       "      <td>3</td>\n",
       "      <td>1</td>\n",
       "      <td>349909</td>\n",
       "      <td>21.0750</td>\n",
       "      <td>NaN</td>\n",
       "      <td>S</td>\n",
       "    </tr>\n",
       "    <tr>\n",
       "      <th>8</th>\n",
       "      <td>9</td>\n",
       "      <td>1</td>\n",
       "      <td>3</td>\n",
       "      <td>Johnson, Mrs. Oscar W (Elisabeth Vilhelmina Berg)</td>\n",
       "      <td>female</td>\n",
       "      <td>27.0</td>\n",
       "      <td>0</td>\n",
       "      <td>2</td>\n",
       "      <td>347742</td>\n",
       "      <td>11.1333</td>\n",
       "      <td>NaN</td>\n",
       "      <td>S</td>\n",
       "    </tr>\n",
       "    <tr>\n",
       "      <th>9</th>\n",
       "      <td>10</td>\n",
       "      <td>1</td>\n",
       "      <td>2</td>\n",
       "      <td>Nasser, Mrs. Nicholas (Adele Achem)</td>\n",
       "      <td>female</td>\n",
       "      <td>14.0</td>\n",
       "      <td>1</td>\n",
       "      <td>0</td>\n",
       "      <td>237736</td>\n",
       "      <td>30.0708</td>\n",
       "      <td>NaN</td>\n",
       "      <td>C</td>\n",
       "    </tr>\n",
       "  </tbody>\n",
       "</table>\n",
       "</div>"
      ],
      "text/plain": [
       "   PassengerId  Survived  Pclass  \\\n",
       "0            1         0       3   \n",
       "1            2         1       1   \n",
       "2            3         1       3   \n",
       "3            4         1       1   \n",
       "4            5         0       3   \n",
       "5            6         0       3   \n",
       "6            7         0       1   \n",
       "7            8         0       3   \n",
       "8            9         1       3   \n",
       "9           10         1       2   \n",
       "\n",
       "                                                Name     Sex   Age  SibSp  \\\n",
       "0                            Braund, Mr. Owen Harris    male  22.0      1   \n",
       "1  Cumings, Mrs. John Bradley (Florence Briggs Th...  female  38.0      1   \n",
       "2                             Heikkinen, Miss. Laina  female  26.0      0   \n",
       "3       Futrelle, Mrs. Jacques Heath (Lily May Peel)  female  35.0      1   \n",
       "4                           Allen, Mr. William Henry    male  35.0      0   \n",
       "5                                   Moran, Mr. James    male   NaN      0   \n",
       "6                            McCarthy, Mr. Timothy J    male  54.0      0   \n",
       "7                     Palsson, Master. Gosta Leonard    male   2.0      3   \n",
       "8  Johnson, Mrs. Oscar W (Elisabeth Vilhelmina Berg)  female  27.0      0   \n",
       "9                Nasser, Mrs. Nicholas (Adele Achem)  female  14.0      1   \n",
       "\n",
       "   Parch            Ticket     Fare Cabin Embarked  \n",
       "0      0         A/5 21171   7.2500   NaN        S  \n",
       "1      0          PC 17599  71.2833   C85        C  \n",
       "2      0  STON/O2. 3101282   7.9250   NaN        S  \n",
       "3      0            113803  53.1000  C123        S  \n",
       "4      0            373450   8.0500   NaN        S  \n",
       "5      0            330877   8.4583   NaN        Q  \n",
       "6      0             17463  51.8625   E46        S  \n",
       "7      1            349909  21.0750   NaN        S  \n",
       "8      2            347742  11.1333   NaN        S  \n",
       "9      0            237736  30.0708   NaN        C  "
      ]
     },
     "execution_count": 3,
     "metadata": {},
     "output_type": "execute_result"
    }
   ],
   "source": [
    "# Show the head of the data. \n",
    "trainDF.head(10)"
   ]
  },
  {
   "cell_type": "markdown",
   "metadata": {},
   "source": [
    "### Visualizations"
   ]
  },
  {
   "cell_type": "code",
   "execution_count": 4,
   "metadata": {},
   "outputs": [
    {
     "data": {
      "image/png": "[encoded data removed]",
      "text/plain": [
       "<matplotlib.figure.Figure at 0x176b497ba20>"
      ]
     },
     "metadata": {},
     "output_type": "display_data"
    }
   ],
   "source": [
    "nRows = 3\n",
    "nCols = 3\n",
    "\n",
    "plt.figure(figsize=(6*3,6*3))\n",
    "plt.subplot(nRows,nCols,1)\n",
    "\n",
    "trainDF[\"Survived\"].value_counts().plot.pie(autopct=\"%.2f%%\")\n",
    "\n",
    "plt.subplot(nRows,nCols,2)\n",
    "trainDF[\"Sex\"].value_counts().plot.pie(autopct=\"%.2f%%\")\n",
    "\n",
    "plt.subplot(nRows,nCols,3)\n",
    "trainDF[\"Pclass\"].value_counts().plot.pie()\n",
    "\n",
    "plt.subplot(nRows,nCols,4)\n",
    "trainDF[\"SibSp\"].value_counts().plot.pie()\n",
    "\n",
    "plt.subplot(nRows,nCols,5)\n",
    "trainDF[\"Parch\"].value_counts().plot.pie()\n",
    "\n",
    "plt.subplot(nRows,nCols,6)\n",
    "trainDF[\"Embarked\"].value_counts().plot.pie()\n",
    "\n",
    "plt.subplot(nRows,nCols,7)\n",
    "plt.title(\"Age Histogram\")\n",
    "trainDF[\"Age\"].hist()\n",
    "\n",
    "plt.subplot(nRows,nCols,8)\n",
    "plt.title(\"Fare Histogram\")\n",
    "trainDF[\"Fare\"].hist()\n",
    "\n",
    "plt.show()"
   ]
  },
  {
   "cell_type": "markdown",
   "metadata": {},
   "source": [
    "From the visualizations, we can make the following observations: \n",
    "* The distribution of the genders is very similar to the distribution of survivors. We know from history that there was a policy on ships to give precedence to women and children when boarding the liferafts, so this result is not surprising; however, the distributions are different, so some men did board the liferafts. "
   ]
  },
  {
   "cell_type": "markdown",
   "metadata": {},
   "source": [
    "### Feature Engineering"
   ]
  },
  {
   "cell_type": "markdown",
   "metadata": {},
   "source": [
    "**1.) How many passengers are children?** \n",
    "\n",
    "We ask this question because we would like to determine which men were children, since we know being a woman or child has a better chance of being on the lifeboats and therefore has a greater chance of survival. The most obvious fields for deriving this feature are: Age, PArch, and SibSp. We will use age here. We must, however, make an assumption as to what age marks a child."
   ]
  },
  {
   "cell_type": "code",
   "execution_count": 5,
   "metadata": {},
   "outputs": [
    {
     "data": {
      "application/vnd.jupyter.widget-view+json": {
       "model_id": "b86bb56a1f614363862e15b682bc1a58",
       "version_major": 2,
       "version_minor": 0
      },
      "text/html": [
       "<p>Failed to display Jupyter Widget of type <code>interactive</code>.</p>\n",
       "<p>\n",
       "  If you're reading this message in the Jupyter Notebook or JupyterLab Notebook, it may mean\n",
       "  that the widgets JavaScript is still loading. If this message persists, it\n",
       "  likely means that the widgets JavaScript library is either not installed or\n",
       "  not enabled. See the <a href=\"https://ipywidgets.readthedocs.io/en/stable/user_install.html\">Jupyter\n",
       "  Widgets Documentation</a> for setup instructions.\n",
       "</p>\n",
       "<p>\n",
       "  If you're reading this message in another frontend (for example, a static\n",
       "  rendering on GitHub or <a href=\"https://nbviewer.jupyter.org/\">NBViewer</a>),\n",
       "  it may mean that your frontend doesn't currently support widgets.\n",
       "</p>\n"
      ],
      "text/plain": [
       "interactive(children=(IntSlider(value=10, description='ageThresh'), Output()), _dom_classes=('widget-interact',))"
      ]
     },
     "metadata": {},
     "output_type": "display_data"
    },
    {
     "data": {
      "text/plain": [
       "<function __main__.plotChilds>"
      ]
     },
     "execution_count": 5,
     "metadata": {},
     "output_type": "execute_result"
    }
   ],
   "source": [
    "# Plot\n",
    "def plotChilds(ageThresh=10):\n",
    "    df = trainDF[\"Age\"].dropna()\n",
    "    childFeat = df.map(lambda x: x<ageThresh)\n",
    "    \n",
    "    plt.figure(figsize=(12,12))\n",
    "    \n",
    "  \n",
    "    plt.subplot(221)\n",
    "    plt.title(\"Size of Age Group\")\n",
    "    childFeat.value_counts().plot.pie(autopct=\"%.2f%%\")\n",
    "    \n",
    "    \n",
    "    newDF = trainDF.assign(isChild=df.map(lambda x: x<ageThresh))\n",
    "    res = newDF.groupby(\"isChild\")[\"Survived\"]\n",
    "    adultC,childC = res.count()\n",
    "    adultS,childS = res.sum()\n",
    "    \n",
    "    plt.subplot(222)\n",
    "    plt.title(\"Age Group Survival\")\n",
    "    plt.pie([childC-childS,childS],labels=[\"Died\",\"Survived\"],autopct=\"%.2f%%\")\n",
    "    \n",
    "    plt.subplot(223)\n",
    "    plt.title(\"Age Group Gender Distribution\")\n",
    "    newDF.groupby(\"isChild\")[\"Sex\"].value_counts()[1].plot.pie(autopct=\"%.2f%%\")\n",
    "    \n",
    "    plt.subplot(224)\n",
    "    plt.title(\"Age Group Class Distribution\")\n",
    "    newDF.groupby(\"isChild\")[\"Pclass\"].value_counts()[1].plot.pie(autopct=\"%.2f%%\")\n",
    "    \n",
    "    plt.show()\n",
    "    \n",
    "interact(plotChilds,ageThresh=(0,100))"
   ]
  },
  {
   "cell_type": "markdown",
   "metadata": {},
   "source": [
    "### Naive Baselines"
   ]
  },
  {
   "cell_type": "code",
   "execution_count": 6,
   "metadata": {},
   "outputs": [
    {
     "name": "stdout",
     "output_type": "stream",
     "text": [
      "Mean Baseline: 0.6659119735267652\n",
      "Gender Baseline: 0.7867564534231201\n"
     ]
    }
   ],
   "source": [
    "def meanBaseline(df):\n",
    "    nRows = df[\"Survived\"].shape[0]\n",
    "    mean = df[\"Survived\"].sum()/nRows\n",
    "    return log_loss(df[\"Survived\"],np.full(nRows,mean))\n",
    "\n",
    "def genderBaseline(df):\n",
    "    nRows = df[\"Survived\"].shape[0]\n",
    "    pred = df[\"Sex\"].map(lambda x: 1 if x == \"female\" else 0)\n",
    "    res = df[\"Survived\"]==pred\n",
    "    return res.sum()/res.count()\n",
    "\n",
    "print(\"Mean Baseline: {0}\".format(meanBaseline(trainDF)))\n",
    "print(\"Gender Baseline: {0}\".format(genderBaseline(trainDF)))"
   ]
  },
  {
   "cell_type": "markdown",
   "metadata": {
    "_uuid": "bdc3623e54ce85d16f24e82cce2edd14df311cde"
   },
   "source": [
    "#  3. Extract, Transform, and Load ( ETL )\n",
    "\n",
    "### Preprocess Data"
   ]
  },
  {
   "cell_type": "code",
   "execution_count": 7,
   "metadata": {
    "_uuid": "76ce337fd43f5e5f523a6fe55ab2d311689b7a56"
   },
   "outputs": [
    {
     "data": {
      "text/html": [
       "<div>\n",
       "<style scoped>\n",
       "    .dataframe tbody tr th:only-of-type {\n",
       "        vertical-align: middle;\n",
       "    }\n",
       "\n",
       "    .dataframe tbody tr th {\n",
       "        vertical-align: top;\n",
       "    }\n",
       "\n",
       "    .dataframe thead th {\n",
       "        text-align: right;\n",
       "    }\n",
       "</style>\n",
       "<table border=\"1\" class=\"dataframe\">\n",
       "  <thead>\n",
       "    <tr style=\"text-align: right;\">\n",
       "      <th></th>\n",
       "      <th>0</th>\n",
       "      <th>1</th>\n",
       "      <th>2</th>\n",
       "      <th>3</th>\n",
       "      <th>4</th>\n",
       "      <th>5</th>\n",
       "      <th>6</th>\n",
       "      <th>7</th>\n",
       "      <th>8</th>\n",
       "      <th>9</th>\n",
       "      <th>10</th>\n",
       "      <th>11</th>\n",
       "    </tr>\n",
       "  </thead>\n",
       "  <tbody>\n",
       "    <tr>\n",
       "      <th>0</th>\n",
       "      <td>0.0</td>\n",
       "      <td>1.0</td>\n",
       "      <td>0.0</td>\n",
       "      <td>0.0</td>\n",
       "      <td>1.0</td>\n",
       "      <td>0.0</td>\n",
       "      <td>0.0</td>\n",
       "      <td>0.0</td>\n",
       "      <td>0.0000</td>\n",
       "      <td>0.0</td>\n",
       "      <td>0.0</td>\n",
       "      <td>1.0</td>\n",
       "    </tr>\n",
       "    <tr>\n",
       "      <th>1</th>\n",
       "      <td>1.0</td>\n",
       "      <td>0.0</td>\n",
       "      <td>0.0</td>\n",
       "      <td>0.0</td>\n",
       "      <td>1.0</td>\n",
       "      <td>30.0</td>\n",
       "      <td>0.0</td>\n",
       "      <td>0.0</td>\n",
       "      <td>7.2250</td>\n",
       "      <td>0.0</td>\n",
       "      <td>1.0</td>\n",
       "      <td>0.0</td>\n",
       "    </tr>\n",
       "    <tr>\n",
       "      <th>2</th>\n",
       "      <td>1.0</td>\n",
       "      <td>0.0</td>\n",
       "      <td>0.0</td>\n",
       "      <td>1.0</td>\n",
       "      <td>0.0</td>\n",
       "      <td>30.0</td>\n",
       "      <td>1.0</td>\n",
       "      <td>1.0</td>\n",
       "      <td>24.1500</td>\n",
       "      <td>0.0</td>\n",
       "      <td>0.0</td>\n",
       "      <td>1.0</td>\n",
       "    </tr>\n",
       "    <tr>\n",
       "      <th>3</th>\n",
       "      <td>1.0</td>\n",
       "      <td>0.0</td>\n",
       "      <td>0.0</td>\n",
       "      <td>0.0</td>\n",
       "      <td>1.0</td>\n",
       "      <td>9.0</td>\n",
       "      <td>5.0</td>\n",
       "      <td>2.0</td>\n",
       "      <td>46.9000</td>\n",
       "      <td>0.0</td>\n",
       "      <td>0.0</td>\n",
       "      <td>1.0</td>\n",
       "    </tr>\n",
       "    <tr>\n",
       "      <th>4</th>\n",
       "      <td>0.0</td>\n",
       "      <td>0.0</td>\n",
       "      <td>1.0</td>\n",
       "      <td>1.0</td>\n",
       "      <td>0.0</td>\n",
       "      <td>16.0</td>\n",
       "      <td>0.0</td>\n",
       "      <td>1.0</td>\n",
       "      <td>57.9792</td>\n",
       "      <td>0.0</td>\n",
       "      <td>1.0</td>\n",
       "      <td>0.0</td>\n",
       "    </tr>\n",
       "  </tbody>\n",
       "</table>\n",
       "</div>"
      ],
      "text/plain": [
       "    0    1    2    3    4     5    6    7        8    9    10   11\n",
       "0  0.0  1.0  0.0  0.0  1.0   0.0  0.0  0.0   0.0000  0.0  0.0  1.0\n",
       "1  1.0  0.0  0.0  0.0  1.0  30.0  0.0  0.0   7.2250  0.0  1.0  0.0\n",
       "2  1.0  0.0  0.0  1.0  0.0  30.0  1.0  1.0  24.1500  0.0  0.0  1.0\n",
       "3  1.0  0.0  0.0  0.0  1.0   9.0  5.0  2.0  46.9000  0.0  0.0  1.0\n",
       "4  0.0  0.0  1.0  1.0  0.0  16.0  0.0  1.0  57.9792  0.0  1.0  0.0"
      ]
     },
     "execution_count": 7,
     "metadata": {},
     "output_type": "execute_result"
    }
   ],
   "source": [
    "# Our prepprocessing function which is applied to every row of the target dataframe. \n",
    "def preprocessRow(row):\n",
    "    # Process Categorical Variables - One-Hot-Encoding\n",
    "    sex      = [0,0]\n",
    "    embarked = [0,0,0]\n",
    "    pclass   = [0,0,0]\n",
    "    \n",
    "    if row[\"Sex\"] == \"male\":\n",
    "        sex = [0,1]\n",
    "    elif row[\"Sex\"] == \"female\":\n",
    "        sex = [1,0]\n",
    "    \n",
    "    if row[\"Embarked\"] == \"S\":\n",
    "        embarked = [0,0,1]\n",
    "    elif row[\"Embarked\"] == \"C\":\n",
    "        embarked = [0,1,0]\n",
    "    elif row[\"Embarked\"] == \"Q\":\n",
    "        embarked = [1,0,0]\n",
    "    \n",
    "    if row[\"Pclass\"] == 1:\n",
    "        pclass   = [0,0,1]\n",
    "    elif row[\"Pclass\"] == 2:\n",
    "        pclass   = [0,1,0]\n",
    "    elif row[\"Pclass\"] == 3:\n",
    "        pclass   = [1,0,0]\n",
    " \n",
    "    return pclass+sex+[row[\"Age\"],row[\"SibSp\"],row[\"Parch\"],row[\"Fare\"]]+embarked\n",
    "\n",
    "# Fill Missing Values\n",
    "testDF = testDF.fillna(0)\n",
    "trainDF = trainDF.fillna(0).sample(frac=1)\n",
    "\n",
    "# Preprocess Data\n",
    "data = np.stack(trainDF.apply(preprocessRow,axis=1).as_matrix())\n",
    "\n",
    "# View what the training vectors look like. \n",
    "pd.DataFrame(data).head()"
   ]
  },
  {
   "cell_type": "markdown",
   "metadata": {},
   "source": [
    "### Validation/Training Split\n",
    "In order to plot our learning curves, which allow us to understand how well our model is performing, we need a training and validation set. We train on the training set and hold out the validation set. Since our model is not exposed to the validation data during training, we can use it to determine how well our model generalizes to new data. "
   ]
  },
  {
   "cell_type": "code",
   "execution_count": 242,
   "metadata": {
    "_uuid": "c404eaf1d1ea7c6d9d08a691d88cad66f8b0a85b"
   },
   "outputs": [],
   "source": [
    "# Size of validation set. \n",
    "splitSize = 0.2\n",
    "\n",
    "X, y = [data, trainDF[\"Survived\"].values]\n",
    "train_x, validation_x, train_y , validation_y = train_test_split(X,y, test_size=splitSize)"
   ]
  },
  {
   "cell_type": "code",
   "execution_count": 249,
   "metadata": {},
   "outputs": [
    {
     "data": {
      "text/html": [
       "<div>\n",
       "<style scoped>\n",
       "    .dataframe tbody tr th:only-of-type {\n",
       "        vertical-align: middle;\n",
       "    }\n",
       "\n",
       "    .dataframe tbody tr th {\n",
       "        vertical-align: top;\n",
       "    }\n",
       "\n",
       "    .dataframe thead th {\n",
       "        text-align: right;\n",
       "    }\n",
       "</style>\n",
       "<table border=\"1\" class=\"dataframe\">\n",
       "  <thead>\n",
       "    <tr style=\"text-align: right;\">\n",
       "      <th></th>\n",
       "      <th>Training_Means</th>\n",
       "      <th>Validation_Means</th>\n",
       "      <th>Diff_Perc</th>\n",
       "    </tr>\n",
       "  </thead>\n",
       "  <tbody>\n",
       "    <tr>\n",
       "      <th>3 Class</th>\n",
       "      <td>0.563202</td>\n",
       "      <td>0.502793</td>\n",
       "      <td>12.014669</td>\n",
       "    </tr>\n",
       "    <tr>\n",
       "      <th>2 Class</th>\n",
       "      <td>0.209270</td>\n",
       "      <td>0.195531</td>\n",
       "      <td>7.026485</td>\n",
       "    </tr>\n",
       "    <tr>\n",
       "      <th>1 Class</th>\n",
       "      <td>0.227528</td>\n",
       "      <td>0.301676</td>\n",
       "      <td>24.578652</td>\n",
       "    </tr>\n",
       "    <tr>\n",
       "      <th>Female</th>\n",
       "      <td>0.356742</td>\n",
       "      <td>0.335196</td>\n",
       "      <td>6.427903</td>\n",
       "    </tr>\n",
       "    <tr>\n",
       "      <th>Male</th>\n",
       "      <td>0.643258</td>\n",
       "      <td>0.664804</td>\n",
       "      <td>3.240959</td>\n",
       "    </tr>\n",
       "    <tr>\n",
       "      <th>Age</th>\n",
       "      <td>23.355576</td>\n",
       "      <td>25.564246</td>\n",
       "      <td>8.639684</td>\n",
       "    </tr>\n",
       "    <tr>\n",
       "      <th>SibSp</th>\n",
       "      <td>0.526685</td>\n",
       "      <td>0.508380</td>\n",
       "      <td>3.600753</td>\n",
       "    </tr>\n",
       "    <tr>\n",
       "      <th>Parch</th>\n",
       "      <td>0.360955</td>\n",
       "      <td>0.463687</td>\n",
       "      <td>22.155476</td>\n",
       "    </tr>\n",
       "    <tr>\n",
       "      <th>Fare</th>\n",
       "      <td>31.196880</td>\n",
       "      <td>36.211008</td>\n",
       "      <td>13.846972</td>\n",
       "    </tr>\n",
       "    <tr>\n",
       "      <th>Q Embarked</th>\n",
       "      <td>0.088483</td>\n",
       "      <td>0.078212</td>\n",
       "      <td>13.132022</td>\n",
       "    </tr>\n",
       "    <tr>\n",
       "      <th>C Embarked</th>\n",
       "      <td>0.175562</td>\n",
       "      <td>0.240223</td>\n",
       "      <td>26.917298</td>\n",
       "    </tr>\n",
       "    <tr>\n",
       "      <th>S Embarked</th>\n",
       "      <td>0.733146</td>\n",
       "      <td>0.681564</td>\n",
       "      <td>7.568153</td>\n",
       "    </tr>\n",
       "  </tbody>\n",
       "</table>\n",
       "</div>"
      ],
      "text/plain": [
       "            Training_Means  Validation_Means  Diff_Perc\n",
       "3 Class           0.563202          0.502793  12.014669\n",
       "2 Class           0.209270          0.195531   7.026485\n",
       "1 Class           0.227528          0.301676  24.578652\n",
       "Female            0.356742          0.335196   6.427903\n",
       "Male              0.643258          0.664804   3.240959\n",
       "Age              23.355576         25.564246   8.639684\n",
       "SibSp             0.526685          0.508380   3.600753\n",
       "Parch             0.360955          0.463687  22.155476\n",
       "Fare             31.196880         36.211008  13.846972\n",
       "Q Embarked        0.088483          0.078212  13.132022\n",
       "C Embarked        0.175562          0.240223  26.917298\n",
       "S Embarked        0.733146          0.681564   7.568153"
      ]
     },
     "metadata": {},
     "output_type": "display_data"
    },
    {
     "name": "stdout",
     "output_type": "stream",
     "text": [
      "MSE: 2.503984\n"
     ]
    }
   ],
   "source": [
    "def trainValMetrics(validation_x,train_x):\n",
    "    valMeans = np.mean(validation_x,axis=0)\n",
    "    trainMeans = np.mean(train_x,axis=0)\n",
    "\n",
    "    df = pd.DataFrame().assign(Training_Means=trainMeans,Validation_Means=valMeans,\n",
    "                               Diff_Perc=np.abs((1 - (trainMeans/valMeans))*100))\n",
    "\n",
    "    df.index = [\"3 Class\",\"2 Class\",\"1 Class\",\"Female\",\"Male\",\"Age\",\"SibSp\",\"Parch\",\"Fare\",\"Q Embarked\",\"C Embarked\",\"S Embarked\"]\n",
    "\n",
    "    return df,mean_squared_error(valMeans,trainMeans)\n",
    "\n",
    "df,mse = trainValMetrics(validation_x,train_x)\n",
    "\n",
    "display(df)\n",
    "print(\"MSE: {0:7f}\".format(mse))"
   ]
  },
  {
   "cell_type": "markdown",
   "metadata": {},
   "source": [
    "Since our dataset is small, there is a great chance that holding out the validation set will skew our results. One thing we may want to do is ensure that our validation and training set are statistically similar. In our case, we will will randomly partition the dataset, in a monte carlo manner, for a set number of itterations and take the partion that has the minimum mean-squared error between the training and validation partition. "
   ]
  },
  {
   "cell_type": "code",
   "execution_count": 248,
   "metadata": {},
   "outputs": [
    {
     "name": "stdout",
     "output_type": "stream",
     "text": [
      "Highest MSE: 61.681928\n",
      "Lowest  MSE: 0.001152\n",
      "AScore:      2.644511\n"
     ]
    }
   ],
   "source": [
    "# How many times we will randomly partition and compute the MSE.\n",
    "partitionItter = 10000\n",
    "\n",
    "# Default dummy MSE\n",
    "lowestMSE = 100000\n",
    "highestMSE = 0\n",
    "\n",
    "for i in range(partitionItter):\n",
    "    t_train_x, t_validation_x, t_train_y , t_validation_y = train_test_split(X,y, test_size=0.1)\n",
    "    valMeans = np.mean(t_validation_x,axis=0)\n",
    "    trainMeans = np.mean(t_train_x,axis=0)\n",
    "    \n",
    "    mse = mean_squared_error(valMeans,trainMeans)\n",
    "    if mse < lowestMSE:\n",
    "        lowestMSE = mse\n",
    "        \n",
    "    if mse > highestMSE:\n",
    "        highestMSE = mse\n",
    "    \n",
    "print(\"Highest MSE: {0:7f}\".format(highestMSE))\n",
    "print(\"Lowest  MSE: {0:7f}\".format(lowestMSE))\n",
    "print(\"AScore:      {0:7f}\".format(np.abs(np.log(highestMSE)-np.abs(np.log(lowestMSE)))))"
   ]
  },
  {
   "cell_type": "code",
   "execution_count": 200,
   "metadata": {},
   "outputs": [
    {
     "name": "stdout",
     "output_type": "stream",
     "text": [
      "Highest MSE: 71.220302\n",
      "Lowest  MSE: 0.000594\n"
     ]
    }
   ],
   "source": []
  },
  {
   "cell_type": "code",
   "execution_count": 202,
   "metadata": {},
   "outputs": [
    {
     "data": {
      "text/plain": [
       "35.610447808888"
      ]
     },
     "execution_count": 202,
     "metadata": {},
     "output_type": "execute_result"
    }
   ],
   "source": [
    "(highestMSE+lowestMSE)/2"
   ]
  },
  {
   "cell_type": "code",
   "execution_count": 239,
   "metadata": {},
   "outputs": [
    {
     "data": {
      "text/plain": [
       "3.16295967205018"
      ]
     },
     "execution_count": 239,
     "metadata": {},
     "output_type": "execute_result"
    }
   ],
   "source": []
  },
  {
   "cell_type": "code",
   "execution_count": 230,
   "metadata": {},
   "outputs": [
    {
     "data": {
      "text/plain": [
       "-7.428737585792875"
      ]
     },
     "execution_count": 230,
     "metadata": {},
     "output_type": "execute_result"
    }
   ],
   "source": []
  },
  {
   "cell_type": "markdown",
   "metadata": {
    "_uuid": "1647f4af97d936775b9d931c9cc822d75dc598fd"
   },
   "source": [
    "# 4. Modeling\n",
    "\n",
    "### Neural Network\n",
    "** Architectural Considerations **\n",
    "* Depth of Network:\n",
    "* Width of Network:\n",
    "* Activation Functions: \n",
    "* Regularization: \n",
    "* Loss Function: \n",
    "\n",
    "** Training Considerations **\n",
    "* Batch Size \n",
    "* Optimizer \n",
    "* Number of Epochs \n",
    "\n",
    "** Neural Network Setup **"
   ]
  },
  {
   "cell_type": "code",
   "execution_count": 250,
   "metadata": {
    "_uuid": "0ad7431efca15de65af9977d90ef8ba580c65029"
   },
   "outputs": [
    {
     "name": "stdout",
     "output_type": "stream",
     "text": [
      "_________________________________________________________________\n",
      "Layer (type)                 Output Shape              Param #   \n",
      "=================================================================\n",
      "input (InputLayer)           (None, 12)                0         \n",
      "_________________________________________________________________\n",
      "fc0 (Dense)                  (None, 100)               1300      \n",
      "_________________________________________________________________\n",
      "fc_dropout_0 (Dropout)       (None, 100)               0         \n",
      "_________________________________________________________________\n",
      "fc1 (Dense)                  (None, 100)               10100     \n",
      "_________________________________________________________________\n",
      "fc_dropout_1 (Dropout)       (None, 100)               0         \n",
      "_________________________________________________________________\n",
      "fc2 (Dense)                  (None, 100)               10100     \n",
      "_________________________________________________________________\n",
      "fc_dropout_2 (Dropout)       (None, 100)               0         \n",
      "_________________________________________________________________\n",
      "fc3 (Dense)                  (None, 100)               10100     \n",
      "_________________________________________________________________\n",
      "fc_dropout_3 (Dropout)       (None, 100)               0         \n",
      "_________________________________________________________________\n",
      "fc4 (Dense)                  (None, 100)               10100     \n",
      "_________________________________________________________________\n",
      "fc_dropout_4 (Dropout)       (None, 100)               0         \n",
      "_________________________________________________________________\n",
      "fc5 (Dense)                  (None, 100)               10100     \n",
      "_________________________________________________________________\n",
      "fc_dropout_5 (Dropout)       (None, 100)               0         \n",
      "_________________________________________________________________\n",
      "fc6 (Dense)                  (None, 100)               10100     \n",
      "_________________________________________________________________\n",
      "fc_dropout_6 (Dropout)       (None, 100)               0         \n",
      "_________________________________________________________________\n",
      "fc7 (Dense)                  (None, 100)               10100     \n",
      "_________________________________________________________________\n",
      "fc_dropout_7 (Dropout)       (None, 100)               0         \n",
      "_________________________________________________________________\n",
      "fc8 (Dense)                  (None, 100)               10100     \n",
      "_________________________________________________________________\n",
      "fc_dropout_8 (Dropout)       (None, 100)               0         \n",
      "_________________________________________________________________\n",
      "fc9 (Dense)                  (None, 100)               10100     \n",
      "_________________________________________________________________\n",
      "fc_dropout_9 (Dropout)       (None, 100)               0         \n",
      "_________________________________________________________________\n",
      "output (Dense)               (None, 1)                 101       \n",
      "=================================================================\n",
      "Total params: 92,301\n",
      "Trainable params: 92,301\n",
      "Non-trainable params: 0\n",
      "_________________________________________________________________\n"
     ]
    }
   ],
   "source": [
    "# Training Hyperparameters\n",
    "batch_size = 200\n",
    "epochs = 200\n",
    "\n",
    "# Model Hyperparameters \n",
    "nLayers = 10\n",
    "layerSize = 100\n",
    "dropoutPercent = 0.5 # Regularization \n",
    "lossFn = 'binary_crossentropy'\n",
    "optimizer = 'adam'\n",
    "\n",
    "\n",
    "# Model Architecture \n",
    "def makeModel(nLayers,layerSize,dropoutPercent,lossFn,optimizer):\n",
    "    inputs = Input(shape=(train_x.shape[1],),name=\"input\")\n",
    "    x = None \n",
    "    \n",
    "    for layer in range(nLayers):\n",
    "        if x == None:\n",
    "            x = inputs\n",
    "\n",
    "        x = Dense(layerSize, activation='sigmoid',name=\"fc\"+str(layer))(x)\n",
    "        x = Dropout(dropoutPercent,name=\"fc_dropout_\"+str(layer))(x)\n",
    "\n",
    "    out = Dense(1,activation='sigmoid', name=\"output\")(x)\n",
    "\n",
    "    model = Model(inputs=inputs, outputs=out)\n",
    "    model.compile(optimizer=optimizer,\n",
    "                  loss=lossFn,\n",
    "                  metrics=['acc'])\n",
    "    \n",
    "    return model\n",
    "\n",
    "\n",
    "modelMain = makeModel(nLayers,layerSize,dropoutPercent,lossFn,optimizer)\n",
    "modelMain.summary()"
   ]
  },
  {
   "cell_type": "markdown",
   "metadata": {
    "_uuid": "2de26fcb26b5ad200bfd4ce86902d1f04ef6f2b0"
   },
   "source": [
    "** Training **\n",
    "\n",
    "We will now train our neural network on the training data. "
   ]
  },
  {
   "cell_type": "code",
   "execution_count": 251,
   "metadata": {},
   "outputs": [],
   "source": [
    "trainOnFullData = False \n",
    "\n",
    "# We create a callback that saves the best model in respect to maximizing validation accuracy.\n",
    "checkpoint =  ModelCheckpoint(monitor='val_acc',filepath='bestModel.hdf5', verbose=0, save_best_only=True)\n",
    "\n",
    "# Here we train the model on the training data and store the training history so we can evaluate it in the next step. \n",
    "if trainOnFullData:\n",
    "    hist = modelMain.fit(X, y,validation_data=(validation_x,validation_y),\n",
    "                     callbacks=[checkpoint], batch_size=batch_size,epochs=epochs, verbose=0)\n",
    "else:\n",
    "    hist = modelMain.fit(train_x, train_y,validation_data=(validation_x,validation_y),\n",
    "                         callbacks=[checkpoint], batch_size=batch_size,epochs=epochs, verbose=0)"
   ]
  },
  {
   "cell_type": "markdown",
   "metadata": {
    "_uuid": "4ccc5edd73c54c47dfea7f042cdf7b1616689042"
   },
   "source": [
    "# 5. Evaluation\n",
    "At this point we have defined a neural network and trained it. In this section, we will use three methods for evaluating how well our neural network models the data. When doing data science in practice, you would go between evaluating the model and changing the parameters or having an algorithm like grid-search do it for you.\n",
    "\n",
    "### Learning Curves "
   ]
  },
  {
   "cell_type": "code",
   "execution_count": 225,
   "metadata": {
    "_uuid": "d72797ab9538342d39e8a3f8977477cf2da80af0"
   },
   "outputs": [
    {
     "data": {
      "image/png": "[encoded data removed]",
      "text/plain": [
       "<matplotlib.figure.Figure at 0x176988f6b70>"
      ]
     },
     "metadata": {},
     "output_type": "display_data"
    },
    {
     "name": "stdout",
     "output_type": "stream",
     "text": [
      "Max validation accuracy: 0.6312848925590515\n",
      "Minimum validation loss: 0.6582691669464111\n"
     ]
    }
   ],
   "source": [
    "def learningCurves(hist):\n",
    "    histAcc_train = hist.history['acc']\n",
    "    histLoss_train = hist.history['loss']\n",
    "    histAcc_validation = hist.history['val_acc']\n",
    "    histLoss_validation = hist.history['val_loss']\n",
    "    maxValAcc = np.max(histAcc_validation)\n",
    "    minValLoss = np.min(histLoss_validation)\n",
    "\n",
    "    plt.figure(figsize=(12,12))\n",
    "\n",
    "    plt.plot(range(epochs),np.full(epochs,meanBaseline(trainDF)),label=\"Unbiased Estimator\", color=\"red\")\n",
    "\n",
    "    plt.plot(range(epochs),histLoss_train, label=\"Training Loss\", color=\"#acc6ef\")\n",
    "    plt.plot(range(epochs),histAcc_train, label=\"Training Accuracy\", color = \"#005ff9\" )\n",
    "\n",
    "    plt.plot(range(epochs),histLoss_validation, label=\"Validation Loss\", color=\"#a7e295\")\n",
    "    plt.plot(range(epochs),histAcc_validation, label=\"Validation Accuracy\",color=\"#3ddd0d\")\n",
    "\n",
    "    plt.scatter(np.argmax(histAcc_validation),maxValAcc,zorder=10,color=\"green\")\n",
    "    plt.scatter(np.argmin(histLoss_validation),minValLoss,zorder=10,color=\"green\")\n",
    "\n",
    "    plt.xlabel('Epochs',fontsize=14)\n",
    "    plt.title(\"Learning Curves\",fontsize=20)\n",
    "\n",
    "    plt.legend()\n",
    "    plt.show()\n",
    "\n",
    "    print(\"Max validation accuracy: {0}\".format(maxValAcc))\n",
    "    print(\"Minimum validation loss: {0}\".format(minValLoss))\n",
    "\n",
    "learningCurves(hist)"
   ]
  },
  {
   "cell_type": "markdown",
   "metadata": {},
   "source": [
    "### Cross-Validation\n",
    "![](notebook_images/K-fold_cross_validation_EN.jpg)\n",
    "\n",
    "If our learning curve indicates healthy learning ( i.e. the training and validation metrics do not diverge ), we may want to use a cross-validation method in order to get a more accurate estimation of how well our model generalizes to new data. We will use  a technique called called k-fold cross-validation. "
   ]
  },
  {
   "cell_type": "code",
   "execution_count": 27,
   "metadata": {
    "scrolled": false
   },
   "outputs": [
    {
     "name": "stdout",
     "output_type": "stream",
     "text": [
      "Loss: 19.98% (+/- 0.00%) | Accuracy: 90.00% (+/- 0.00%)\n",
      "Loss: 29.12% (+/- 0.09%) | Accuracy: 85.00% (+/- 0.05%)\n",
      "Loss: 31.21% (+/- 0.08%) | Accuracy: 80.00% (+/- 0.08%)\n",
      "Loss: 30.49% (+/- 0.07%) | Accuracy: 80.00% (+/- 0.07%)\n",
      "Loss: 32.43% (+/- 0.07%) | Accuracy: 78.00% (+/- 0.07%)\n",
      "Loss: 30.37% (+/- 0.08%) | Accuracy: 80.00% (+/- 0.08%)\n",
      "Loss: 29.40% (+/- 0.08%) | Accuracy: 80.00% (+/- 0.08%)\n",
      "Loss: 30.98% (+/- 0.09%) | Accuracy: 81.25% (+/- 0.08%)\n",
      "Loss: 34.38% (+/- 0.13%) | Accuracy: 81.11% (+/- 0.07%)\n",
      "Loss: 36.96% (+/- 0.14%) | Accuracy: 81.00% (+/- 0.07%)\n",
      "Loss: 39.59% (+/- 0.16%) | Accuracy: 80.00% (+/- 0.07%)\n",
      "Loss: 40.72% (+/- 0.16%) | Accuracy: 79.17% (+/- 0.08%)\n",
      "Loss: 41.75% (+/- 0.15%) | Accuracy: 79.23% (+/- 0.07%)\n",
      "Loss: 39.96% (+/- 0.16%) | Accuracy: 80.71% (+/- 0.09%)\n",
      "Loss: 39.79% (+/- 0.16%) | Accuracy: 81.33% (+/- 0.09%)\n",
      "Loss: 38.61% (+/- 0.16%) | Accuracy: 81.87% (+/- 0.09%)\n",
      "Loss: 38.80% (+/- 0.15%) | Accuracy: 81.76% (+/- 0.09%)\n",
      "Loss: 37.74% (+/- 0.16%) | Accuracy: 82.78% (+/- 0.09%)\n",
      "Loss: 38.38% (+/- 0.15%) | Accuracy: 82.11% (+/- 0.10%)\n",
      "Loss: 38.44% (+/- 0.15%) | Accuracy: 81.50% (+/- 0.10%)\n",
      "Loss: 38.90% (+/- 0.15%) | Accuracy: 81.43% (+/- 0.09%)\n",
      "Loss: 39.25% (+/- 0.15%) | Accuracy: 81.36% (+/- 0.09%)\n",
      "Loss: 39.48% (+/- 0.14%) | Accuracy: 80.87% (+/- 0.09%)\n",
      "Loss: 40.12% (+/- 0.14%) | Accuracy: 80.00% (+/- 0.10%)\n",
      "Loss: 39.67% (+/- 0.14%) | Accuracy: 80.40% (+/- 0.10%)\n",
      "Loss: 40.21% (+/- 0.14%) | Accuracy: 80.00% (+/- 0.10%)\n",
      "Loss: 40.60% (+/- 0.14%) | Accuracy: 80.00% (+/- 0.10%)\n",
      "Loss: 40.59% (+/- 0.14%) | Accuracy: 80.00% (+/- 0.10%)\n",
      "Loss: 39.75% (+/- 0.14%) | Accuracy: 80.69% (+/- 0.10%)\n",
      "Loss: 40.99% (+/- 0.16%) | Accuracy: 80.00% (+/- 0.11%)\n",
      "Loss: 40.98% (+/- 0.15%) | Accuracy: 80.32% (+/- 0.11%)\n",
      "Loss: 41.03% (+/- 0.15%) | Accuracy: 80.31% (+/- 0.10%)\n",
      "Loss: 42.18% (+/- 0.16%) | Accuracy: 80.00% (+/- 0.10%)\n",
      "Loss: 42.76% (+/- 0.16%) | Accuracy: 79.71% (+/- 0.10%)\n",
      "Loss: 42.41% (+/- 0.16%) | Accuracy: 79.71% (+/- 0.10%)\n",
      "Loss: 42.37% (+/- 0.16%) | Accuracy: 79.44% (+/- 0.10%)\n",
      "Loss: 42.66% (+/- 0.16%) | Accuracy: 79.46% (+/- 0.10%)\n",
      "Loss: 41.89% (+/- 0.16%) | Accuracy: 80.00% (+/- 0.11%)\n",
      "Loss: 41.91% (+/- 0.16%) | Accuracy: 80.00% (+/- 0.10%)\n",
      "Loss: 41.59% (+/- 0.16%) | Accuracy: 80.25% (+/- 0.10%)\n",
      "Loss: 42.03% (+/- 0.16%) | Accuracy: 80.00% (+/- 0.10%)\n",
      "Loss: 42.21% (+/- 0.16%) | Accuracy: 80.00% (+/- 0.10%)\n",
      "Loss: 41.84% (+/- 0.16%) | Accuracy: 80.21% (+/- 0.10%)\n",
      "Loss: 41.26% (+/- 0.16%) | Accuracy: 80.40% (+/- 0.10%)\n",
      "Loss: 41.02% (+/- 0.16%) | Accuracy: 80.84% (+/- 0.10%)\n",
      "Loss: 40.51% (+/- 0.16%) | Accuracy: 81.26% (+/- 0.11%)\n",
      "Loss: 40.34% (+/- 0.16%) | Accuracy: 81.42% (+/- 0.11%)\n",
      "Loss: 40.60% (+/- 0.16%) | Accuracy: 80.88% (+/- 0.11%)\n"
     ]
    },
    {
     "ename": "KeyboardInterrupt",
     "evalue": "",
     "output_type": "error",
     "traceback": [
      "\u001b[1;31m---------------------------------------------------------------------------\u001b[0m",
      "\u001b[1;31mKeyboardInterrupt\u001b[0m                         Traceback (most recent call last)",
      "\u001b[1;32m<ipython-input-27-4eb4e9c6dace>\u001b[0m in \u001b[0;36m<module>\u001b[1;34m()\u001b[0m\n\u001b[0;32m     18\u001b[0m \u001b[1;33m\u001b[0m\u001b[0m\n\u001b[0;32m     19\u001b[0m    \u001b[1;31m# Train the model on this kfold.\u001b[0m\u001b[1;33m\u001b[0m\u001b[1;33m\u001b[0m\u001b[0m\n\u001b[1;32m---> 20\u001b[1;33m    \u001b[0mmodel\u001b[0m\u001b[1;33m.\u001b[0m\u001b[0mfit\u001b[0m\u001b[1;33m(\u001b[0m\u001b[0mX\u001b[0m\u001b[1;33m[\u001b[0m\u001b[0mtrain\u001b[0m\u001b[1;33m]\u001b[0m\u001b[1;33m,\u001b[0m \u001b[0my\u001b[0m\u001b[1;33m[\u001b[0m\u001b[0mtrain\u001b[0m\u001b[1;33m]\u001b[0m\u001b[1;33m,\u001b[0m\u001b[0mbatch_size\u001b[0m\u001b[1;33m=\u001b[0m\u001b[0mbatch_size\u001b[0m\u001b[1;33m,\u001b[0m\u001b[0mepochs\u001b[0m\u001b[1;33m=\u001b[0m\u001b[0mepochs\u001b[0m\u001b[1;33m,\u001b[0m \u001b[0mverbose\u001b[0m\u001b[1;33m=\u001b[0m\u001b[1;36m0\u001b[0m\u001b[1;33m)\u001b[0m\u001b[1;33m\u001b[0m\u001b[0m\n\u001b[0m\u001b[0;32m     21\u001b[0m \u001b[1;33m\u001b[0m\u001b[0m\n\u001b[0;32m     22\u001b[0m    \u001b[1;31m# Evaluate the model\u001b[0m\u001b[1;33m\u001b[0m\u001b[1;33m\u001b[0m\u001b[0m\n",
      "\u001b[1;32m~\\Anaconda3\\envs\\GreatEnv\\lib\\site-packages\\keras\\engine\\training.py\u001b[0m in \u001b[0;36mfit\u001b[1;34m(self, x, y, batch_size, epochs, verbose, callbacks, validation_split, validation_data, shuffle, class_weight, sample_weight, initial_epoch, steps_per_epoch, validation_steps, **kwargs)\u001b[0m\n\u001b[0;32m   1703\u001b[0m                               \u001b[0minitial_epoch\u001b[0m\u001b[1;33m=\u001b[0m\u001b[0minitial_epoch\u001b[0m\u001b[1;33m,\u001b[0m\u001b[1;33m\u001b[0m\u001b[0m\n\u001b[0;32m   1704\u001b[0m                               \u001b[0msteps_per_epoch\u001b[0m\u001b[1;33m=\u001b[0m\u001b[0msteps_per_epoch\u001b[0m\u001b[1;33m,\u001b[0m\u001b[1;33m\u001b[0m\u001b[0m\n\u001b[1;32m-> 1705\u001b[1;33m                               validation_steps=validation_steps)\n\u001b[0m\u001b[0;32m   1706\u001b[0m \u001b[1;33m\u001b[0m\u001b[0m\n\u001b[0;32m   1707\u001b[0m     def evaluate(self, x=None, y=None,\n",
      "\u001b[1;32m~\\Anaconda3\\envs\\GreatEnv\\lib\\site-packages\\keras\\engine\\training.py\u001b[0m in \u001b[0;36m_fit_loop\u001b[1;34m(self, f, ins, out_labels, batch_size, epochs, verbose, callbacks, val_f, val_ins, shuffle, callback_metrics, initial_epoch, steps_per_epoch, validation_steps)\u001b[0m\n\u001b[0;32m   1233\u001b[0m                         \u001b[0mins_batch\u001b[0m\u001b[1;33m[\u001b[0m\u001b[0mi\u001b[0m\u001b[1;33m]\u001b[0m \u001b[1;33m=\u001b[0m \u001b[0mins_batch\u001b[0m\u001b[1;33m[\u001b[0m\u001b[0mi\u001b[0m\u001b[1;33m]\u001b[0m\u001b[1;33m.\u001b[0m\u001b[0mtoarray\u001b[0m\u001b[1;33m(\u001b[0m\u001b[1;33m)\u001b[0m\u001b[1;33m\u001b[0m\u001b[0m\n\u001b[0;32m   1234\u001b[0m \u001b[1;33m\u001b[0m\u001b[0m\n\u001b[1;32m-> 1235\u001b[1;33m                     \u001b[0mouts\u001b[0m \u001b[1;33m=\u001b[0m \u001b[0mf\u001b[0m\u001b[1;33m(\u001b[0m\u001b[0mins_batch\u001b[0m\u001b[1;33m)\u001b[0m\u001b[1;33m\u001b[0m\u001b[0m\n\u001b[0m\u001b[0;32m   1236\u001b[0m                     \u001b[1;32mif\u001b[0m \u001b[1;32mnot\u001b[0m \u001b[0misinstance\u001b[0m\u001b[1;33m(\u001b[0m\u001b[0mouts\u001b[0m\u001b[1;33m,\u001b[0m \u001b[0mlist\u001b[0m\u001b[1;33m)\u001b[0m\u001b[1;33m:\u001b[0m\u001b[1;33m\u001b[0m\u001b[0m\n\u001b[0;32m   1237\u001b[0m                         \u001b[0mouts\u001b[0m \u001b[1;33m=\u001b[0m \u001b[1;33m[\u001b[0m\u001b[0mouts\u001b[0m\u001b[1;33m]\u001b[0m\u001b[1;33m\u001b[0m\u001b[0m\n",
      "\u001b[1;32m~\\Anaconda3\\envs\\GreatEnv\\lib\\site-packages\\keras\\backend\\tensorflow_backend.py\u001b[0m in \u001b[0;36m__call__\u001b[1;34m(self, inputs)\u001b[0m\n\u001b[0;32m   2476\u001b[0m         \u001b[0msession\u001b[0m \u001b[1;33m=\u001b[0m \u001b[0mget_session\u001b[0m\u001b[1;33m(\u001b[0m\u001b[1;33m)\u001b[0m\u001b[1;33m\u001b[0m\u001b[0m\n\u001b[0;32m   2477\u001b[0m         updated = session.run(fetches=fetches, feed_dict=feed_dict,\n\u001b[1;32m-> 2478\u001b[1;33m                               **self.session_kwargs)\n\u001b[0m\u001b[0;32m   2479\u001b[0m         \u001b[1;32mreturn\u001b[0m \u001b[0mupdated\u001b[0m\u001b[1;33m[\u001b[0m\u001b[1;33m:\u001b[0m\u001b[0mlen\u001b[0m\u001b[1;33m(\u001b[0m\u001b[0mself\u001b[0m\u001b[1;33m.\u001b[0m\u001b[0moutputs\u001b[0m\u001b[1;33m)\u001b[0m\u001b[1;33m]\u001b[0m\u001b[1;33m\u001b[0m\u001b[0m\n\u001b[0;32m   2480\u001b[0m \u001b[1;33m\u001b[0m\u001b[0m\n",
      "\u001b[1;32m~\\Anaconda3\\envs\\GreatEnv\\lib\\site-packages\\tensorflow\\python\\client\\session.py\u001b[0m in \u001b[0;36mrun\u001b[1;34m(self, fetches, feed_dict, options, run_metadata)\u001b[0m\n\u001b[0;32m    887\u001b[0m     \u001b[1;32mtry\u001b[0m\u001b[1;33m:\u001b[0m\u001b[1;33m\u001b[0m\u001b[0m\n\u001b[0;32m    888\u001b[0m       result = self._run(None, fetches, feed_dict, options_ptr,\n\u001b[1;32m--> 889\u001b[1;33m                          run_metadata_ptr)\n\u001b[0m\u001b[0;32m    890\u001b[0m       \u001b[1;32mif\u001b[0m \u001b[0mrun_metadata\u001b[0m\u001b[1;33m:\u001b[0m\u001b[1;33m\u001b[0m\u001b[0m\n\u001b[0;32m    891\u001b[0m         \u001b[0mproto_data\u001b[0m \u001b[1;33m=\u001b[0m \u001b[0mtf_session\u001b[0m\u001b[1;33m.\u001b[0m\u001b[0mTF_GetBuffer\u001b[0m\u001b[1;33m(\u001b[0m\u001b[0mrun_metadata_ptr\u001b[0m\u001b[1;33m)\u001b[0m\u001b[1;33m\u001b[0m\u001b[0m\n",
      "\u001b[1;32m~\\Anaconda3\\envs\\GreatEnv\\lib\\site-packages\\tensorflow\\python\\client\\session.py\u001b[0m in \u001b[0;36m_run\u001b[1;34m(self, handle, fetches, feed_dict, options, run_metadata)\u001b[0m\n\u001b[0;32m   1118\u001b[0m     \u001b[1;32mif\u001b[0m \u001b[0mfinal_fetches\u001b[0m \u001b[1;32mor\u001b[0m \u001b[0mfinal_targets\u001b[0m \u001b[1;32mor\u001b[0m \u001b[1;33m(\u001b[0m\u001b[0mhandle\u001b[0m \u001b[1;32mand\u001b[0m \u001b[0mfeed_dict_tensor\u001b[0m\u001b[1;33m)\u001b[0m\u001b[1;33m:\u001b[0m\u001b[1;33m\u001b[0m\u001b[0m\n\u001b[0;32m   1119\u001b[0m       results = self._do_run(handle, final_targets, final_fetches,\n\u001b[1;32m-> 1120\u001b[1;33m                              feed_dict_tensor, options, run_metadata)\n\u001b[0m\u001b[0;32m   1121\u001b[0m     \u001b[1;32melse\u001b[0m\u001b[1;33m:\u001b[0m\u001b[1;33m\u001b[0m\u001b[0m\n\u001b[0;32m   1122\u001b[0m       \u001b[0mresults\u001b[0m \u001b[1;33m=\u001b[0m \u001b[1;33m[\u001b[0m\u001b[1;33m]\u001b[0m\u001b[1;33m\u001b[0m\u001b[0m\n",
      "\u001b[1;32m~\\Anaconda3\\envs\\GreatEnv\\lib\\site-packages\\tensorflow\\python\\client\\session.py\u001b[0m in \u001b[0;36m_do_run\u001b[1;34m(self, handle, target_list, fetch_list, feed_dict, options, run_metadata)\u001b[0m\n\u001b[0;32m   1315\u001b[0m     \u001b[1;32mif\u001b[0m \u001b[0mhandle\u001b[0m \u001b[1;32mis\u001b[0m \u001b[1;32mNone\u001b[0m\u001b[1;33m:\u001b[0m\u001b[1;33m\u001b[0m\u001b[0m\n\u001b[0;32m   1316\u001b[0m       return self._do_call(_run_fn, self._session, feeds, fetches, targets,\n\u001b[1;32m-> 1317\u001b[1;33m                            options, run_metadata)\n\u001b[0m\u001b[0;32m   1318\u001b[0m     \u001b[1;32melse\u001b[0m\u001b[1;33m:\u001b[0m\u001b[1;33m\u001b[0m\u001b[0m\n\u001b[0;32m   1319\u001b[0m       \u001b[1;32mreturn\u001b[0m \u001b[0mself\u001b[0m\u001b[1;33m.\u001b[0m\u001b[0m_do_call\u001b[0m\u001b[1;33m(\u001b[0m\u001b[0m_prun_fn\u001b[0m\u001b[1;33m,\u001b[0m \u001b[0mself\u001b[0m\u001b[1;33m.\u001b[0m\u001b[0m_session\u001b[0m\u001b[1;33m,\u001b[0m \u001b[0mhandle\u001b[0m\u001b[1;33m,\u001b[0m \u001b[0mfeeds\u001b[0m\u001b[1;33m,\u001b[0m \u001b[0mfetches\u001b[0m\u001b[1;33m)\u001b[0m\u001b[1;33m\u001b[0m\u001b[0m\n",
      "\u001b[1;32m~\\Anaconda3\\envs\\GreatEnv\\lib\\site-packages\\tensorflow\\python\\client\\session.py\u001b[0m in \u001b[0;36m_do_call\u001b[1;34m(self, fn, *args)\u001b[0m\n\u001b[0;32m   1321\u001b[0m   \u001b[1;32mdef\u001b[0m \u001b[0m_do_call\u001b[0m\u001b[1;33m(\u001b[0m\u001b[0mself\u001b[0m\u001b[1;33m,\u001b[0m \u001b[0mfn\u001b[0m\u001b[1;33m,\u001b[0m \u001b[1;33m*\u001b[0m\u001b[0margs\u001b[0m\u001b[1;33m)\u001b[0m\u001b[1;33m:\u001b[0m\u001b[1;33m\u001b[0m\u001b[0m\n\u001b[0;32m   1322\u001b[0m     \u001b[1;32mtry\u001b[0m\u001b[1;33m:\u001b[0m\u001b[1;33m\u001b[0m\u001b[0m\n\u001b[1;32m-> 1323\u001b[1;33m       \u001b[1;32mreturn\u001b[0m \u001b[0mfn\u001b[0m\u001b[1;33m(\u001b[0m\u001b[1;33m*\u001b[0m\u001b[0margs\u001b[0m\u001b[1;33m)\u001b[0m\u001b[1;33m\u001b[0m\u001b[0m\n\u001b[0m\u001b[0;32m   1324\u001b[0m     \u001b[1;32mexcept\u001b[0m \u001b[0merrors\u001b[0m\u001b[1;33m.\u001b[0m\u001b[0mOpError\u001b[0m \u001b[1;32mas\u001b[0m \u001b[0me\u001b[0m\u001b[1;33m:\u001b[0m\u001b[1;33m\u001b[0m\u001b[0m\n\u001b[0;32m   1325\u001b[0m       \u001b[0mmessage\u001b[0m \u001b[1;33m=\u001b[0m \u001b[0mcompat\u001b[0m\u001b[1;33m.\u001b[0m\u001b[0mas_text\u001b[0m\u001b[1;33m(\u001b[0m\u001b[0me\u001b[0m\u001b[1;33m.\u001b[0m\u001b[0mmessage\u001b[0m\u001b[1;33m)\u001b[0m\u001b[1;33m\u001b[0m\u001b[0m\n",
      "\u001b[1;32m~\\Anaconda3\\envs\\GreatEnv\\lib\\site-packages\\tensorflow\\python\\client\\session.py\u001b[0m in \u001b[0;36m_run_fn\u001b[1;34m(session, feed_dict, fetch_list, target_list, options, run_metadata)\u001b[0m\n\u001b[0;32m   1300\u001b[0m           return tf_session.TF_Run(session, options,\n\u001b[0;32m   1301\u001b[0m                                    \u001b[0mfeed_dict\u001b[0m\u001b[1;33m,\u001b[0m \u001b[0mfetch_list\u001b[0m\u001b[1;33m,\u001b[0m \u001b[0mtarget_list\u001b[0m\u001b[1;33m,\u001b[0m\u001b[1;33m\u001b[0m\u001b[0m\n\u001b[1;32m-> 1302\u001b[1;33m                                    status, run_metadata)\n\u001b[0m\u001b[0;32m   1303\u001b[0m \u001b[1;33m\u001b[0m\u001b[0m\n\u001b[0;32m   1304\u001b[0m     \u001b[1;32mdef\u001b[0m \u001b[0m_prun_fn\u001b[0m\u001b[1;33m(\u001b[0m\u001b[0msession\u001b[0m\u001b[1;33m,\u001b[0m \u001b[0mhandle\u001b[0m\u001b[1;33m,\u001b[0m \u001b[0mfeed_dict\u001b[0m\u001b[1;33m,\u001b[0m \u001b[0mfetch_list\u001b[0m\u001b[1;33m)\u001b[0m\u001b[1;33m:\u001b[0m\u001b[1;33m\u001b[0m\u001b[0m\n",
      "\u001b[1;31mKeyboardInterrupt\u001b[0m: "
     ]
    }
   ],
   "source": [
    " # Cross-Validation Parameter \n",
    "kFolds = 100\n",
    "\n",
    "kfold = StratifiedKFold(n_splits=kFolds, shuffle=True)\n",
    "means = []\n",
    "stds = []\n",
    "lossesLs = []\n",
    "accuracyLs = []\n",
    "\n",
    "runningLoss = []\n",
    "runningAccuracy = []\n",
    "\n",
    "# Train on k-folds of the data. \n",
    "for train, test in kfold.split(X, y):\n",
    "    \n",
    "    # Create new instance of our model. \n",
    "    model = makeModel(nLayers,layerSize,dropoutPercent,lossFn,optimizer)\n",
    "    \n",
    "    # Train the model on this kfold. \n",
    "    model.fit(X[train], y[train],batch_size=batch_size,epochs=epochs, verbose=0)\n",
    "\n",
    "    # Evaluate the model\n",
    "    loss,acc = model.evaluate(X[test], y[test], verbose=0)\n",
    "    \n",
    "    # Log Cross-Validation Data\n",
    "    lossesLs.append(loss)\n",
    "    accuracyLs.append(acc)\n",
    "    mean = np.mean(lossesLs)\n",
    "    std = np.std(lossesLs)\n",
    "    \n",
    "    accuracyMean = np.mean(accuracyLs)\n",
    "    accuracyStd = np.std(accuracyLs)\n",
    "    \n",
    "    runningLoss.append(mean)\n",
    "    runningAccuracy.append(accuracyMean)\n",
    "    \n",
    "    print(\"Loss: %.2f%% (+/- %.2f%%) | Accuracy: %.2f%% (+/- %.2f%%)\" % (mean*100,std,accuracyMean*100,accuracyStd))\n",
    "\n",
    "plt.plot(range(len(runningLoss)),runningLoss)\n",
    "plt.plot(range(len(runningAccuracy)),runningAccuracy)\n",
    "plt.show()"
   ]
  },
  {
   "cell_type": "markdown",
   "metadata": {},
   "source": [
    "### Confusion Matrix"
   ]
  },
  {
   "cell_type": "markdown",
   "metadata": {
    "_uuid": "0b8734637337bee75f214ed8cdaf24e1e4a115ce"
   },
   "source": [
    "# 6. Application to Test Set\n",
    "Now that we have designed, trained, and evaluated our neural network, we will apply it to the training set and save the results to a csv file which can be uploaded to kaggle for scoring. "
   ]
  },
  {
   "cell_type": "code",
   "execution_count": 237,
   "metadata": {
    "_uuid": "007684acc2c27d0dabd07186d61658c0878d0916"
   },
   "outputs": [],
   "source": [
    "useBestModel = False\n",
    "\n",
    "# The thrshold function which assigns a class of 0 or 1 based on the sigmoid output of the network. \n",
    "def thresholdFn(x):\n",
    "    if(x < 0.5):\n",
    "        return 0\n",
    "    else:\n",
    "        return 1\n",
    "\n",
    "if useBestModel:\n",
    "    # Load the model with the parameters that yielded the best validation accuracy. \n",
    "    model = load_model(\"bestModel.hdf5\")\n",
    "    pred = model.predict(np.stack(testDF.apply(preprocessRow,axis=1)))\n",
    "else:\n",
    "    # Apply the model to the test set.\n",
    "    pred = modelMain.predict(np.stack(testDF.apply(preprocessRow,axis=1)))\n",
    "\n",
    "# Save the predictions to a CSV file in the format suitable for the competition. \n",
    "data_to_submit = pd.DataFrame.from_items([\n",
    "    ('PassengerId',testDF[\"PassengerId\"]),\n",
    "    ('Survived', pd.Series(np.hstack(pred)).map(thresholdFn))])\n",
    "\n",
    "data_to_submit.to_csv('titanic_submit30.csv', index = False)"
   ]
  },
  {
   "cell_type": "markdown",
   "metadata": {
    "_uuid": "3fb2346651abb4185fd8a9d36cbdbd89a7ba776c"
   },
   "source": [
    "# 7. Next Steps\n",
    "This notebook introduced a simple workflow of the stages involved in modeing categorical and continuous tabular data with neural networks. Here are some of the next steps you can take to make your analysis more robust:\n",
    "\n",
    "* Implement a hyperparameter search procedure. A common approach is grid search.\n",
    "* Add more features from the training set. In this notebook we ignore several columns like name and cabin. Figuring out how to include these features may help make better predictions. \n",
    "\n",
    "![](notebook_images/Iceberg_in_the_Arctic_with_its_underside_exposed.jpg)"
   ]
  },
  {
   "cell_type": "code",
   "execution_count": null,
   "metadata": {},
   "outputs": [],
   "source": []
  }
 ],
 "metadata": {
  "kernelspec": {
   "display_name": "Python 3",
   "language": "python",
   "name": "python3"
  },
  "language_info": {
   "codemirror_mode": {
    "name": "ipython",
    "version": 3
   },
   "file_extension": ".py",
   "mimetype": "text/x-python",
   "name": "python",
   "nbconvert_exporter": "python",
   "pygments_lexer": "ipython3",
   "version": "3.6.2"
  }
 },
 "nbformat": 4,
 "nbformat_minor": 1
}
