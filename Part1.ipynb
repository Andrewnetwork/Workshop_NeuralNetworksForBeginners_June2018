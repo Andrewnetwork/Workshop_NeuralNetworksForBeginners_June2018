{
 "cells": [
  {
   "cell_type": "markdown",
   "metadata": {
    "_cell_guid": "b1076dfc-b9ad-4769-8c92-a6c4dae69d19",
    "_uuid": "8f2839f25d086af736a60e9eeb907d3b93b6e0e5",
    "collapsed": true
   },
   "source": [
    "![](https://secure.meetupstatic.com/photos/event/8/a/2/9/600_464495369.jpeg)\n",
    "![](https://secure.meetupstatic.com/photos/event/2/7/8/2/600_471550114.jpeg)\n",
    "# Welcome to Danbury AI's June Workshop!\n",
    "In this workshop we will use neural networks to produce models of four different datasets in order to provide a glimpse into the different ways neural networks can be used. \n",
    "\n",
    "* [The Titanic Disaster](https://www.kaggle.com/andrewrib/danbury-ai-june-2018-workshop-part-2): How to use a *Feed-Forward Neural Network* to predict the survivors of the Titanic based on categorical ( gender, ticket class, etc ) and quantitative ( age, ticket price, etc) features. \n",
    "* MNIST: How to use a *Feed-Forward Neural Network* to classify well preprocessed images of hand written digits.\n",
    "* Street View House Numbers: How to use a *Convolutional Feed-Forward Neural Network* to classify noisy real world images of google street view house numbers. \n",
    "* [Jigsaw Toxic Comment Classification Challenge](https://www.kaggle.com/andrewrib/danbury-ai-june-2018-workshop-part-5): How to use a *Long Short-Term Memory Network* to classify wikipedia comments. \n",
    "\n",
    "We will use an in-class competition to organize these notebooks in the kernels section, but the actual competition is only tied to the [Street View House Numbers](http://ufldl.stanford.edu/housenumbers/) dataset. It is hoped that the competition portion of this workshop will give you a chance to experience the process of solving real world machine learning problems and an opportunity to collaborate with other Danbury AI members and the Kaggle community at large.  We will be hosting the competition till our July meeting and will feature the winners solution in our [Danbury AI newsletter](http://eepurl.com/dxufLf). \n",
    "\n",
    "[You can access the slides for the workshop here. ](https://docs.google.com/presentation/d/1Ut8dFGGvY-DjsnDuHOjrEo_uWXkyBtDDg_xO2aKgqGI/edit?usp=sharing)\n",
    "\n",
    "## THIS WORKSHOP WILL BE LAUNCHED 6/12/2018 and is in development till then. \n"
   ]
  }
 ],
 "metadata": {
  "kernelspec": {
   "display_name": "Python 3",
   "language": "python",
   "name": "python3"
  },
  "language_info": {
   "codemirror_mode": {
    "name": "ipython",
    "version": 3
   },
   "file_extension": ".py",
   "mimetype": "text/x-python",
   "name": "python",
   "nbconvert_exporter": "python",
   "pygments_lexer": "ipython3",
   "version": "3.6.2"
  }
 },
 "nbformat": 4,
 "nbformat_minor": 1
}
