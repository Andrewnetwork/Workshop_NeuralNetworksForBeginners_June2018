{
 "cells": [
  {
   "cell_type": "markdown",
   "metadata": {},
   "source": [
    "# Danbury AI June 2018 Competition\n",
    "\n",
    "\n",
    "** About the Data **\n",
    "\n",
    "We are using the MNIST data obtained from the [digit recognizer competition on Kaggle](https://www.kaggle.com/c/digit-recognizer/data). MNIST was produced by [Yann Lecun et al.](http://yann.lecun.com/exdb/mnist/) and their page has a great list of benchmark results. The street view house numbers (SVHN) was obtained from [stanfords website](http://ufldl.stanford.edu/housenumbers/). "
   ]
  },
  {
   "cell_type": "code",
   "execution_count": 1,
   "metadata": {},
   "outputs": [
    {
     "name": "stderr",
     "output_type": "stream",
     "text": [
      "C:\\Users\\Andre\\Anaconda3\\envs\\RefreshEnv\\lib\\site-packages\\h5py\\__init__.py:36: FutureWarning: Conversion of the second argument of issubdtype from `float` to `np.floating` is deprecated. In future, it will be treated as `np.float64 == np.dtype(float).type`.\n",
      "  from ._conv import register_converters as _register_converters\n",
      "Using TensorFlow backend.\n"
     ]
    }
   ],
   "source": [
    "import pandas as pd\n",
    "import numpy as np\n",
    "import scipy.io as sio\n",
    "import matplotlib.pyplot as plt\n",
    "from ipywidgets import interact\n",
    "from keras.layers import Input, Dense, Dropout,Conv2D,MaxPooling2D,Flatten,GlobalMaxPooling2D\n",
    "from keras.models import Model\n",
    "from keras.utils import to_categorical\n",
    "from sklearn.model_selection import train_test_split\n",
    "from sklearn.preprocessing import MinMaxScaler"
   ]
  },
  {
   "cell_type": "markdown",
   "metadata": {},
   "source": [
    "## Extract, Transform, Load (ETL)"
   ]
  },
  {
   "cell_type": "code",
   "execution_count": 2,
   "metadata": {},
   "outputs": [
    {
     "data": {
      "text/html": [
       "<div>\n",
       "<style scoped>\n",
       "    .dataframe tbody tr th:only-of-type {\n",
       "        vertical-align: middle;\n",
       "    }\n",
       "\n",
       "    .dataframe tbody tr th {\n",
       "        vertical-align: top;\n",
       "    }\n",
       "\n",
       "    .dataframe thead th {\n",
       "        text-align: right;\n",
       "    }\n",
       "</style>\n",
       "<table border=\"1\" class=\"dataframe\">\n",
       "  <thead>\n",
       "    <tr style=\"text-align: right;\">\n",
       "      <th></th>\n",
       "      <th>label</th>\n",
       "      <th>pixel0</th>\n",
       "      <th>pixel1</th>\n",
       "      <th>pixel2</th>\n",
       "      <th>pixel3</th>\n",
       "      <th>pixel4</th>\n",
       "      <th>pixel5</th>\n",
       "      <th>pixel6</th>\n",
       "      <th>pixel7</th>\n",
       "      <th>pixel8</th>\n",
       "      <th>...</th>\n",
       "      <th>pixel774</th>\n",
       "      <th>pixel775</th>\n",
       "      <th>pixel776</th>\n",
       "      <th>pixel777</th>\n",
       "      <th>pixel778</th>\n",
       "      <th>pixel779</th>\n",
       "      <th>pixel780</th>\n",
       "      <th>pixel781</th>\n",
       "      <th>pixel782</th>\n",
       "      <th>pixel783</th>\n",
       "    </tr>\n",
       "  </thead>\n",
       "  <tbody>\n",
       "    <tr>\n",
       "      <th>0</th>\n",
       "      <td>1</td>\n",
       "      <td>0</td>\n",
       "      <td>0</td>\n",
       "      <td>0</td>\n",
       "      <td>0</td>\n",
       "      <td>0</td>\n",
       "      <td>0</td>\n",
       "      <td>0</td>\n",
       "      <td>0</td>\n",
       "      <td>0</td>\n",
       "      <td>...</td>\n",
       "      <td>0</td>\n",
       "      <td>0</td>\n",
       "      <td>0</td>\n",
       "      <td>0</td>\n",
       "      <td>0</td>\n",
       "      <td>0</td>\n",
       "      <td>0</td>\n",
       "      <td>0</td>\n",
       "      <td>0</td>\n",
       "      <td>0</td>\n",
       "    </tr>\n",
       "    <tr>\n",
       "      <th>1</th>\n",
       "      <td>0</td>\n",
       "      <td>0</td>\n",
       "      <td>0</td>\n",
       "      <td>0</td>\n",
       "      <td>0</td>\n",
       "      <td>0</td>\n",
       "      <td>0</td>\n",
       "      <td>0</td>\n",
       "      <td>0</td>\n",
       "      <td>0</td>\n",
       "      <td>...</td>\n",
       "      <td>0</td>\n",
       "      <td>0</td>\n",
       "      <td>0</td>\n",
       "      <td>0</td>\n",
       "      <td>0</td>\n",
       "      <td>0</td>\n",
       "      <td>0</td>\n",
       "      <td>0</td>\n",
       "      <td>0</td>\n",
       "      <td>0</td>\n",
       "    </tr>\n",
       "    <tr>\n",
       "      <th>2</th>\n",
       "      <td>1</td>\n",
       "      <td>0</td>\n",
       "      <td>0</td>\n",
       "      <td>0</td>\n",
       "      <td>0</td>\n",
       "      <td>0</td>\n",
       "      <td>0</td>\n",
       "      <td>0</td>\n",
       "      <td>0</td>\n",
       "      <td>0</td>\n",
       "      <td>...</td>\n",
       "      <td>0</td>\n",
       "      <td>0</td>\n",
       "      <td>0</td>\n",
       "      <td>0</td>\n",
       "      <td>0</td>\n",
       "      <td>0</td>\n",
       "      <td>0</td>\n",
       "      <td>0</td>\n",
       "      <td>0</td>\n",
       "      <td>0</td>\n",
       "    </tr>\n",
       "    <tr>\n",
       "      <th>3</th>\n",
       "      <td>4</td>\n",
       "      <td>0</td>\n",
       "      <td>0</td>\n",
       "      <td>0</td>\n",
       "      <td>0</td>\n",
       "      <td>0</td>\n",
       "      <td>0</td>\n",
       "      <td>0</td>\n",
       "      <td>0</td>\n",
       "      <td>0</td>\n",
       "      <td>...</td>\n",
       "      <td>0</td>\n",
       "      <td>0</td>\n",
       "      <td>0</td>\n",
       "      <td>0</td>\n",
       "      <td>0</td>\n",
       "      <td>0</td>\n",
       "      <td>0</td>\n",
       "      <td>0</td>\n",
       "      <td>0</td>\n",
       "      <td>0</td>\n",
       "    </tr>\n",
       "    <tr>\n",
       "      <th>4</th>\n",
       "      <td>0</td>\n",
       "      <td>0</td>\n",
       "      <td>0</td>\n",
       "      <td>0</td>\n",
       "      <td>0</td>\n",
       "      <td>0</td>\n",
       "      <td>0</td>\n",
       "      <td>0</td>\n",
       "      <td>0</td>\n",
       "      <td>0</td>\n",
       "      <td>...</td>\n",
       "      <td>0</td>\n",
       "      <td>0</td>\n",
       "      <td>0</td>\n",
       "      <td>0</td>\n",
       "      <td>0</td>\n",
       "      <td>0</td>\n",
       "      <td>0</td>\n",
       "      <td>0</td>\n",
       "      <td>0</td>\n",
       "      <td>0</td>\n",
       "    </tr>\n",
       "  </tbody>\n",
       "</table>\n",
       "<p>5 rows × 785 columns</p>\n",
       "</div>"
      ],
      "text/plain": [
       "   label  pixel0  pixel1  pixel2  pixel3  pixel4  pixel5  pixel6  pixel7  \\\n",
       "0      1       0       0       0       0       0       0       0       0   \n",
       "1      0       0       0       0       0       0       0       0       0   \n",
       "2      1       0       0       0       0       0       0       0       0   \n",
       "3      4       0       0       0       0       0       0       0       0   \n",
       "4      0       0       0       0       0       0       0       0       0   \n",
       "\n",
       "   pixel8    ...     pixel774  pixel775  pixel776  pixel777  pixel778  \\\n",
       "0       0    ...            0         0         0         0         0   \n",
       "1       0    ...            0         0         0         0         0   \n",
       "2       0    ...            0         0         0         0         0   \n",
       "3       0    ...            0         0         0         0         0   \n",
       "4       0    ...            0         0         0         0         0   \n",
       "\n",
       "   pixel779  pixel780  pixel781  pixel782  pixel783  \n",
       "0         0         0         0         0         0  \n",
       "1         0         0         0         0         0  \n",
       "2         0         0         0         0         0  \n",
       "3         0         0         0         0         0  \n",
       "4         0         0         0         0         0  \n",
       "\n",
       "[5 rows x 785 columns]"
      ]
     },
     "execution_count": 2,
     "metadata": {},
     "output_type": "execute_result"
    }
   ],
   "source": [
    "mnist = pd.read_csv(\"MNIST_train_28x28.csv\")\n",
    "mnist.head()"
   ]
  },
  {
   "cell_type": "code",
   "execution_count": 3,
   "metadata": {},
   "outputs": [],
   "source": [
    "mnist_x = mnist.values[:,1:].reshape(mnist.shape[0],28,28,1)\n",
    "mnist_y = mnist.values[:,0]\n",
    "\n",
    "\n",
    "mnist_train_x, mnist_validation_x, mnist_train_y, mnist_validation_y = train_test_split(mnist_x,mnist_y,test_size=0.2)"
   ]
  },
  {
   "cell_type": "code",
   "execution_count": 4,
   "metadata": {},
   "outputs": [
    {
     "data": {
      "application/vnd.jupyter.widget-view+json": {
       "model_id": "cb81f4ae22e241c4aa40367674f0baf5",
       "version_major": 2,
       "version_minor": 0
      },
      "text/html": [
       "<p>Failed to display Jupyter Widget of type <code>interactive</code>.</p>\n",
       "<p>\n",
       "  If you're reading this message in the Jupyter Notebook or JupyterLab Notebook, it may mean\n",
       "  that the widgets JavaScript is still loading. If this message persists, it\n",
       "  likely means that the widgets JavaScript library is either not installed or\n",
       "  not enabled. See the <a href=\"https://ipywidgets.readthedocs.io/en/stable/user_install.html\">Jupyter\n",
       "  Widgets Documentation</a> for setup instructions.\n",
       "</p>\n",
       "<p>\n",
       "  If you're reading this message in another frontend (for example, a static\n",
       "  rendering on GitHub or <a href=\"https://nbviewer.jupyter.org/\">NBViewer</a>),\n",
       "  it may mean that your frontend doesn't currently support widgets.\n",
       "</p>\n"
      ],
      "text/plain": [
       "interactive(children=(IntSlider(value=0, description='imSel'), Output()), _dom_classes=('widget-interact',))"
      ]
     },
     "metadata": {},
     "output_type": "display_data"
    },
    {
     "data": {
      "text/plain": [
       "<function __main__.dispMNIST>"
      ]
     },
     "execution_count": 4,
     "metadata": {},
     "output_type": "execute_result"
    }
   ],
   "source": [
    "def dispMNIST(imSel = 0):\n",
    "    plt.title(\"Digit class: {0}\".format(mnist_y[imSel]))\n",
    "    plt.imshow(mnist_x[imSel].reshape(28,28))\n",
    "    plt.show()\n",
    "\n",
    "interact(dispMNIST,imSel=(0,100))"
   ]
  },
  {
   "cell_type": "code",
   "execution_count": 5,
   "metadata": {},
   "outputs": [],
   "source": [
    "imSel = 0\n",
    "svhn = sio.loadmat(\"SVHN_train_32x32.mat\")\n",
    "svhn_x = svhn[\"X\"]\n",
    "svhn_x = np.moveaxis(svhn_x,-1,0)\n",
    "svhn_y = svhn[\"y\"]\n",
    "svhn_y = (svhn_y-1).reshape(svhn_y.shape[0])\n",
    "\n",
    "svhn_train_x, svhn_validation_x, svhn_train_y, svhn_validation_y = train_test_split(svhn_x,svhn_y,test_size=0.2)"
   ]
  },
  {
   "cell_type": "code",
   "execution_count": 6,
   "metadata": {},
   "outputs": [
    {
     "data": {
      "application/vnd.jupyter.widget-view+json": {
       "model_id": "9a04c64a96d2476e934429098da155fb",
       "version_major": 2,
       "version_minor": 0
      },
      "text/html": [
       "<p>Failed to display Jupyter Widget of type <code>interactive</code>.</p>\n",
       "<p>\n",
       "  If you're reading this message in the Jupyter Notebook or JupyterLab Notebook, it may mean\n",
       "  that the widgets JavaScript is still loading. If this message persists, it\n",
       "  likely means that the widgets JavaScript library is either not installed or\n",
       "  not enabled. See the <a href=\"https://ipywidgets.readthedocs.io/en/stable/user_install.html\">Jupyter\n",
       "  Widgets Documentation</a> for setup instructions.\n",
       "</p>\n",
       "<p>\n",
       "  If you're reading this message in another frontend (for example, a static\n",
       "  rendering on GitHub or <a href=\"https://nbviewer.jupyter.org/\">NBViewer</a>),\n",
       "  it may mean that your frontend doesn't currently support widgets.\n",
       "</p>\n"
      ],
      "text/plain": [
       "interactive(children=(IntSlider(value=0, description='imSel'), Output()), _dom_classes=('widget-interact',))"
      ]
     },
     "metadata": {},
     "output_type": "display_data"
    },
    {
     "data": {
      "text/plain": [
       "<function __main__.dispSVHN>"
      ]
     },
     "execution_count": 6,
     "metadata": {},
     "output_type": "execute_result"
    }
   ],
   "source": [
    "def dispSVHN(imSel = 0):\n",
    "    plt.title(\"Digit class: {0}\".format(svhn_y[imSel]+1))\n",
    "    plt.imshow(svhn_x[imSel,:,:,:])\n",
    "    plt.show()\n",
    "    \n",
    "interact(dispSVHN,imSel=(0,100))"
   ]
  },
  {
   "cell_type": "markdown",
   "metadata": {},
   "source": [
    "## Modeling"
   ]
  },
  {
   "cell_type": "code",
   "execution_count": 7,
   "metadata": {},
   "outputs": [],
   "source": [
    "def makeModel(inputSize):\n",
    "    inputs = Input(shape=inputSize,name=\"input\")\n",
    "    x = Conv2D(32, (3, 3), padding='same', activation='relu')(inputs)\n",
    "    x = MaxPooling2D(pool_size=(2, 2), strides=None, padding='valid')(x)\n",
    "    x = Conv2D(32, (3, 3), padding='same', activation='relu')(x)\n",
    "    x = GlobalMaxPooling2D()(x)\n",
    "    x = Dense(100,activation='relu')(x)\n",
    "    out = Dense(10,activation='softmax', name=\"output\")(x)\n",
    "\n",
    "    model = Model(inputs=inputs, outputs=out)\n",
    "    model.compile(optimizer=\"adam\",loss=\"categorical_crossentropy\",metrics=['acc'])\n",
    "    \n",
    "    return model\n",
    "\n",
    "def learningCurves(hist):\n",
    "    histLoss_train      = hist.history['loss']\n",
    "    histLoss_validation = hist.history['val_loss']\n",
    "    minValLoss = np.min(histLoss_validation)\n",
    "    maxValAcc  = np.max(hist.history[\"val_acc\"])\n",
    "    epochs = len(histLoss_train)\n",
    "    \n",
    "    plt.figure(figsize=(12,12))\n",
    "    \n",
    "    plt.plot(range(epochs),histLoss_train, label=\"Training Loss\", color=\"#acc6ef\")\n",
    "\n",
    "    plt.plot(range(epochs),histLoss_validation, label=\"Validation Loss\", color=\"#a7e295\")\n",
    "\n",
    "    plt.scatter(np.argmin(histLoss_validation),minValLoss,zorder=10,color=\"green\")\n",
    "\n",
    "    plt.xlabel('Epochs',fontsize=14)\n",
    "    plt.title(\"Learning Curves\",fontsize=20)\n",
    "\n",
    "    plt.legend()\n",
    "    plt.show()\n",
    "\n",
    "    print(\"Max validation accuracy: {0}\".format(maxValAcc))\n",
    "    print(\"Minimum validation loss: {0}\".format(minValLoss))\n",
    "    "
   ]
  },
  {
   "cell_type": "code",
   "execution_count": 8,
   "metadata": {
    "scrolled": false
   },
   "outputs": [
    {
     "name": "stdout",
     "output_type": "stream",
     "text": [
      "_________________________________________________________________\n",
      "Layer (type)                 Output Shape              Param #   \n",
      "=================================================================\n",
      "input (InputLayer)           (None, 28, 28, 1)         0         \n",
      "_________________________________________________________________\n",
      "conv2d_1 (Conv2D)            (None, 28, 28, 32)        320       \n",
      "_________________________________________________________________\n",
      "max_pooling2d_1 (MaxPooling2 (None, 14, 14, 32)        0         \n",
      "_________________________________________________________________\n",
      "conv2d_2 (Conv2D)            (None, 14, 14, 32)        9248      \n",
      "_________________________________________________________________\n",
      "global_max_pooling2d_1 (Glob (None, 32)                0         \n",
      "_________________________________________________________________\n",
      "dense_1 (Dense)              (None, 100)               3300      \n",
      "_________________________________________________________________\n",
      "output (Dense)               (None, 10)                1010      \n",
      "=================================================================\n",
      "Total params: 13,878\n",
      "Trainable params: 13,878\n",
      "Non-trainable params: 0\n",
      "_________________________________________________________________\n",
      "Train on 33600 samples, validate on 8400 samples\n",
      "Epoch 1/20\n",
      "33600/33600 [==============================] - 43s 1ms/step - loss: 5.4534 - acc: 0.5534 - val_loss: 5.1585 - val_acc: 0.6277\n",
      "Epoch 2/20\n",
      "33600/33600 [==============================] - 42s 1ms/step - loss: 4.9645 - acc: 0.6492 - val_loss: 5.0996 - val_acc: 0.6471\n",
      "Epoch 3/20\n",
      "33600/33600 [==============================] - 61s 2ms/step - loss: 4.9132 - acc: 0.6623 - val_loss: 5.0472 - val_acc: 0.6607\n",
      "Epoch 4/20\n",
      "33600/33600 [==============================] - 49s 1ms/step - loss: 4.8898 - acc: 0.6707 - val_loss: 5.0658 - val_acc: 0.6544\n",
      "Epoch 5/20\n",
      "33600/33600 [==============================] - 47s 1ms/step - loss: 4.8661 - acc: 0.6776 - val_loss: 5.0247 - val_acc: 0.6681\n",
      "Epoch 6/20\n",
      "33600/33600 [==============================] - 43s 1ms/step - loss: 4.8663 - acc: 0.6780 - val_loss: 5.0459 - val_acc: 0.6618\n",
      "Epoch 7/20\n",
      "33600/33600 [==============================] - 44s 1ms/step - loss: 4.8474 - acc: 0.6837 - val_loss: 5.0091 - val_acc: 0.6721\n",
      "Epoch 8/20\n",
      "33600/33600 [==============================] - 44s 1ms/step - loss: 4.8441 - acc: 0.6843 - val_loss: 5.0147 - val_acc: 0.6721\n",
      "Epoch 9/20\n",
      "33600/33600 [==============================] - 45s 1ms/step - loss: 4.8408 - acc: 0.6852 - val_loss: 5.0076 - val_acc: 0.6749\n",
      "Epoch 10/20\n",
      "33600/33600 [==============================] - 47s 1ms/step - loss: 4.8429 - acc: 0.6853 - val_loss: 5.0110 - val_acc: 0.6726\n",
      "Epoch 11/20\n",
      "33600/33600 [==============================] - 45s 1ms/step - loss: 4.8410 - acc: 0.6863 - val_loss: 5.0261 - val_acc: 0.6686\n",
      "Epoch 12/20\n",
      "33600/33600 [==============================] - 42s 1ms/step - loss: 4.8331 - acc: 0.6883 - val_loss: 5.0234 - val_acc: 0.6714\n",
      "Epoch 13/20\n",
      "33600/33600 [==============================] - 46s 1ms/step - loss: 4.8402 - acc: 0.6860 - val_loss: 5.0118 - val_acc: 0.6746\n",
      "Epoch 14/20\n",
      "33600/33600 [==============================] - 41s 1ms/step - loss: 4.8316 - acc: 0.6883 - val_loss: 5.0342 - val_acc: 0.6700\n",
      "Epoch 15/20\n",
      "33600/33600 [==============================] - 39s 1ms/step - loss: 4.8286 - acc: 0.6901 - val_loss: 5.0097 - val_acc: 0.6750\n",
      "Epoch 16/20\n",
      "33600/33600 [==============================] - 39s 1ms/step - loss: 4.8241 - acc: 0.6909 - val_loss: 5.0021 - val_acc: 0.6767\n",
      "Epoch 17/20\n",
      "33600/33600 [==============================] - 48s 1ms/step - loss: 4.8221 - acc: 0.6919 - val_loss: 5.0086 - val_acc: 0.6767\n",
      "Epoch 18/20\n",
      "33600/33600 [==============================] - 40s 1ms/step - loss: 3.6217 - acc: 0.7467 - val_loss: 1.9189 - val_acc: 0.8504\n",
      "Epoch 19/20\n",
      "33600/33600 [==============================] - 40s 1ms/step - loss: 0.4781 - acc: 0.9283 - val_loss: 0.1300 - val_acc: 0.9625\n",
      "Epoch 20/20\n",
      "33600/33600 [==============================] - 40s 1ms/step - loss: 0.1067 - acc: 0.9662 - val_loss: 0.1296 - val_acc: 0.9644\n"
     ]
    },
    {
     "data": {
      "image/png": "[encoded data removed]",
      "text/plain": [
       "<matplotlib.figure.Figure at 0x25fa228a0f0>"
      ]
     },
     "metadata": {},
     "output_type": "display_data"
    },
    {
     "name": "stdout",
     "output_type": "stream",
     "text": [
      "Max validation accuracy: 0.9644047660487038\n",
      "Minimum validation loss: 0.12960514065898246\n"
     ]
    }
   ],
   "source": [
    "model = makeModel((28,28,1,))\n",
    "model.summary()\n",
    "hist1 = model.fit(mnist_train_x.reshape(mnist_train_x.shape[0],28,28,1), to_categorical(mnist_train_y,10),\n",
    "                  batch_size=100,epochs=20,\n",
    "                  validation_data=(mnist_validation_x,to_categorical(mnist_validation_y,10)))\n",
    "learningCurves(hist1)"
   ]
  },
  {
   "cell_type": "code",
   "execution_count": 9,
   "metadata": {
    "scrolled": true
   },
   "outputs": [
    {
     "name": "stdout",
     "output_type": "stream",
     "text": [
      "_________________________________________________________________\n",
      "Layer (type)                 Output Shape              Param #   \n",
      "=================================================================\n",
      "input (InputLayer)           (None, 32, 32, 3)         0         \n",
      "_________________________________________________________________\n",
      "conv2d_3 (Conv2D)            (None, 32, 32, 32)        896       \n",
      "_________________________________________________________________\n",
      "max_pooling2d_2 (MaxPooling2 (None, 16, 16, 32)        0         \n",
      "_________________________________________________________________\n",
      "conv2d_4 (Conv2D)            (None, 16, 16, 32)        9248      \n",
      "_________________________________________________________________\n",
      "global_max_pooling2d_2 (Glob (None, 32)                0         \n",
      "_________________________________________________________________\n",
      "dense_2 (Dense)              (None, 100)               3300      \n",
      "_________________________________________________________________\n",
      "output (Dense)               (None, 10)                1010      \n",
      "=================================================================\n",
      "Total params: 14,454\n",
      "Trainable params: 14,454\n",
      "Non-trainable params: 0\n",
      "_________________________________________________________________\n",
      "Train on 58605 samples, validate on 14652 samples\n",
      "Epoch 1/20\n",
      "58605/58605 [==============================] - 112s 2ms/step - loss: 2.8462 - acc: 0.1888 - val_loss: 2.2004 - val_acc: 0.2244\n",
      "Epoch 2/20\n",
      "58605/58605 [==============================] - 101s 2ms/step - loss: 2.0358 - acc: 0.2860 - val_loss: 1.9518 - val_acc: 0.3341\n",
      "Epoch 3/20\n",
      "58605/58605 [==============================] - 100s 2ms/step - loss: 1.7842 - acc: 0.3837 - val_loss: 1.8012 - val_acc: 0.3864\n",
      "Epoch 4/20\n",
      "58605/58605 [==============================] - 97s 2ms/step - loss: 1.6412 - acc: 0.4428 - val_loss: 1.6895 - val_acc: 0.4373\n",
      "Epoch 5/20\n",
      "58605/58605 [==============================] - 99s 2ms/step - loss: 1.5472 - acc: 0.4799 - val_loss: 1.4967 - val_acc: 0.5056\n",
      "Epoch 6/20\n",
      "58605/58605 [==============================] - 113s 2ms/step - loss: 1.4594 - acc: 0.5141 - val_loss: 1.4515 - val_acc: 0.5190\n",
      "Epoch 7/20\n",
      "58605/58605 [==============================] - 108s 2ms/step - loss: 1.4041 - acc: 0.5347 - val_loss: 1.4077 - val_acc: 0.5402\n",
      "Epoch 8/20\n",
      "58605/58605 [==============================] - 104s 2ms/step - loss: 1.3671 - acc: 0.5487 - val_loss: 1.4265 - val_acc: 0.5330\n",
      "Epoch 9/20\n",
      "58605/58605 [==============================] - 102s 2ms/step - loss: 1.3364 - acc: 0.5604 - val_loss: 1.4506 - val_acc: 0.5237\n",
      "Epoch 10/20\n",
      "58605/58605 [==============================] - 114s 2ms/step - loss: 1.3161 - acc: 0.5645 - val_loss: 1.3916 - val_acc: 0.5452\n",
      "Epoch 11/20\n",
      "58605/58605 [==============================] - 115s 2ms/step - loss: 1.2910 - acc: 0.5731 - val_loss: 1.4806 - val_acc: 0.5088\n",
      "Epoch 12/20\n",
      "58605/58605 [==============================] - 127s 2ms/step - loss: 1.2728 - acc: 0.5806 - val_loss: 1.3385 - val_acc: 0.5581\n",
      "Epoch 13/20\n",
      "58605/58605 [==============================] - 120s 2ms/step - loss: 1.2568 - acc: 0.5839 - val_loss: 1.2700 - val_acc: 0.5859\n",
      "Epoch 14/20\n",
      "58605/58605 [==============================] - 141s 2ms/step - loss: 1.2407 - acc: 0.5896 - val_loss: 1.3653 - val_acc: 0.5572\n",
      "Epoch 15/20\n",
      "58605/58605 [==============================] - 121s 2ms/step - loss: 1.2253 - acc: 0.5952 - val_loss: 1.3181 - val_acc: 0.5706\n",
      "Epoch 16/20\n",
      "58605/58605 [==============================] - 115s 2ms/step - loss: 1.2049 - acc: 0.6011 - val_loss: 1.2306 - val_acc: 0.6010\n",
      "Epoch 17/20\n",
      "58605/58605 [==============================] - 114s 2ms/step - loss: 1.1955 - acc: 0.6074 - val_loss: 1.2259 - val_acc: 0.6029\n",
      "Epoch 18/20\n",
      "58605/58605 [==============================] - 123s 2ms/step - loss: 1.1728 - acc: 0.6178 - val_loss: 1.2096 - val_acc: 0.6100\n",
      "Epoch 19/20\n",
      "58605/58605 [==============================] - 138s 2ms/step - loss: 1.1601 - acc: 0.6195 - val_loss: 1.2073 - val_acc: 0.6145\n",
      "Epoch 20/20\n",
      "58605/58605 [==============================] - 139s 2ms/step - loss: 1.1518 - acc: 0.6233 - val_loss: 1.3323 - val_acc: 0.5674\n"
     ]
    },
    {
     "data": {
      "image/png": "[encoded data removed]",
      "text/plain": [
       "<matplotlib.figure.Figure at 0x25fa2293f98>"
      ]
     },
     "metadata": {},
     "output_type": "display_data"
    },
    {
     "name": "stdout",
     "output_type": "stream",
     "text": [
      "Max validation accuracy: 0.6145236159067416\n",
      "Minimum validation loss: 1.2073123642339298\n"
     ]
    }
   ],
   "source": [
    "model2 = makeModel((32,32,3,))\n",
    "model2.summary()\n",
    "hist2 = model2.fit(svhn_train_x, to_categorical(svhn_train_y,10),batch_size=100,epochs=20,\n",
    "                   validation_data=(svhn_validation_x,to_categorical(svhn_validation_y,10)))\n",
    "learningCurves(hist2)"
   ]
  },
  {
   "cell_type": "code",
   "execution_count": 10,
   "metadata": {},
   "outputs": [],
   "source": [
    "#pred = model.predict(svhn_train_x)\n",
    "#np.argmax(res)"
   ]
  },
  {
   "cell_type": "code",
   "execution_count": null,
   "metadata": {},
   "outputs": [],
   "source": []
  },
  {
   "cell_type": "code",
   "execution_count": null,
   "metadata": {},
   "outputs": [],
   "source": []
  }
 ],
 "metadata": {
  "kernelspec": {
   "display_name": "Python 3",
   "language": "python",
   "name": "python3"
  },
  "language_info": {
   "codemirror_mode": {
    "name": "ipython",
    "version": 3
   },
   "file_extension": ".py",
   "mimetype": "text/x-python",
   "name": "python",
   "nbconvert_exporter": "python",
   "pygments_lexer": "ipython3",
   "version": "3.6.5"
  }
 },
 "nbformat": 4,
 "nbformat_minor": 2
}
