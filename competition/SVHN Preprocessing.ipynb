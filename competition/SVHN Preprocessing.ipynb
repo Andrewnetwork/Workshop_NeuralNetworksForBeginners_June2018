{
 "cells": [
  {
   "cell_type": "code",
   "execution_count": 3,
   "metadata": {},
   "outputs": [],
   "source": [
    "import pandas as pd\n",
    "import numpy as np\n",
    "import scipy.io as sio\n",
    "import matplotlib.pyplot as plt\n",
    "from ipywidgets import interact\n",
    "from skimage.color import rgb2grey\n",
    "from skimage.filters import threshold_local\n",
    "import pickle \n",
    "from sklearn.model_selection import train_test_split"
   ]
  },
  {
   "cell_type": "code",
   "execution_count": 4,
   "metadata": {},
   "outputs": [],
   "source": [
    "svhn = sio.loadmat(\"SVHN_train_32x32.mat\")\n",
    "svhn_x = svhn[\"X\"]\n",
    "svhn_x = np.moveaxis(svhn_x,-1,0)\n",
    "svhn_y = svhn[\"y\"]\n",
    "svhn_y = (svhn_y).reshape(svhn_y.shape[0])\n",
    "\n",
    "train_x, test_x, train_y , test_y = train_test_split(svhn_x,svhn_y, test_size=0.40)"
   ]
  },
  {
   "cell_type": "code",
   "execution_count": 7,
   "metadata": {},
   "outputs": [
    {
     "data": {
      "text/plain": [
       "((43954, 32, 32, 3), (29303, 32, 32, 3))"
      ]
     },
     "execution_count": 7,
     "metadata": {},
     "output_type": "execute_result"
    }
   ],
   "source": [
    "train_x.shape,test_x.shape"
   ]
  },
  {
   "cell_type": "code",
   "execution_count": 16,
   "metadata": {},
   "outputs": [
    {
     "data": {
      "text/plain": [
       "(43954,)"
      ]
     },
     "execution_count": 16,
     "metadata": {},
     "output_type": "execute_result"
    }
   ],
   "source": [
    "train_y.shape"
   ]
  },
  {
   "cell_type": "code",
   "execution_count": 19,
   "metadata": {},
   "outputs": [
    {
     "data": {
      "text/plain": [
       "(29303, 32, 32, 3)"
      ]
     },
     "execution_count": 19,
     "metadata": {},
     "output_type": "execute_result"
    }
   ],
   "source": [
    "test_x.shape"
   ]
  },
  {
   "cell_type": "code",
   "execution_count": 15,
   "metadata": {},
   "outputs": [],
   "source": [
    "np.save(\"train_x.npy\",train_x)\n",
    "np.save(\"train_y.npy\",train_y)"
   ]
  },
  {
   "cell_type": "code",
   "execution_count": 17,
   "metadata": {},
   "outputs": [],
   "source": [
    "np.save(\"test.npy\",test_x)"
   ]
  },
  {
   "cell_type": "code",
   "execution_count": 12,
   "metadata": {},
   "outputs": [],
   "source": [
    "test_labels = pd.DataFrame.from_items([\n",
    "    ('id',list(range(test_y.shape[0]))),\n",
    "    ('label', test_y)])\n",
    "\n",
    "test_labels.to_csv('test_labels.csv', index = False)"
   ]
  },
  {
   "cell_type": "code",
   "execution_count": 13,
   "metadata": {},
   "outputs": [],
   "source": [
    "test_labels = pd.DataFrame.from_items([\n",
    "    ('id',list(range(60))),\n",
    "    ('label', np.random.randint(0,10,60,dtype=int))])\n",
    "\n",
    "test_labels.to_csv('example_submission.csv', index = False)"
   ]
  },
  {
   "cell_type": "code",
   "execution_count": null,
   "metadata": {},
   "outputs": [],
   "source": [
    "outDatFile = open(\"svhn.pkl\",'wb')\n",
    "pickle.dump([svhn_x,svhn_y],outDatFile) \n",
    "outDatFile.close()"
   ]
  },
  {
   "cell_type": "code",
   "execution_count": 32,
   "metadata": {},
   "outputs": [],
   "source": [
    "def tresholdFn(x,dim):\n",
    "    x = x.reshape(dim)\n",
    "    thresh = threshold_local(x,33,offset=0)\n",
    "    return x > thresh\n",
    "\n",
    "svgbGrey = rgb2grey(svhn_x).reshape(svhn_x.shape[0],svhn_x.shape[1]*svhn_x.shape[2])\n",
    "svhnPre  = np.apply_along_axis(lambda x: tresholdFn(x,(svhn_x.shape[1],svhn_x.shape[2])),1,\n",
    "                               svgbGrey).reshape(svhn_x.shape[0],svhn_x.shape[1],svhn_x.shape[2])"
   ]
  },
  {
   "cell_type": "code",
   "execution_count": 63,
   "metadata": {
    "scrolled": false
   },
   "outputs": [
    {
     "data": {
      "application/vnd.jupyter.widget-view+json": {
       "model_id": "b26d5658a768490c9ad7cdabf6d5b6fe",
       "version_major": 2,
       "version_minor": 0
      },
      "text/html": [
       "<p>Failed to display Jupyter Widget of type <code>interactive</code>.</p>\n",
       "<p>\n",
       "  If you're reading this message in the Jupyter Notebook or JupyterLab Notebook, it may mean\n",
       "  that the widgets JavaScript is still loading. If this message persists, it\n",
       "  likely means that the widgets JavaScript library is either not installed or\n",
       "  not enabled. See the <a href=\"https://ipywidgets.readthedocs.io/en/stable/user_install.html\">Jupyter\n",
       "  Widgets Documentation</a> for setup instructions.\n",
       "</p>\n",
       "<p>\n",
       "  If you're reading this message in another frontend (for example, a static\n",
       "  rendering on GitHub or <a href=\"https://nbviewer.jupyter.org/\">NBViewer</a>),\n",
       "  it may mean that your frontend doesn't currently support widgets.\n",
       "</p>\n"
      ],
      "text/plain": [
       "interactive(children=(IntSlider(value=0, description='imSel'), Output()), _dom_classes=('widget-interact',))"
      ]
     },
     "metadata": {},
     "output_type": "display_data"
    },
    {
     "data": {
      "text/plain": [
       "<function __main__.dispSVHN>"
      ]
     },
     "execution_count": 63,
     "metadata": {},
     "output_type": "execute_result"
    }
   ],
   "source": [
    "def dispSVHN(imSel = 0):\n",
    "    plt.figure(figsize=(10,10))\n",
    "    plt.subplot(121)\n",
    "    plt.title(svhn_y[imSel])\n",
    "    plt.imshow(svhn_x[imSel])\n",
    "    plt.subplot(122)\n",
    "    plt.imshow(svhnPre[imSel],cmap=\"gray\")\n",
    "    plt.show()\n",
    "    \n",
    "interact(dispSVHN,imSel=(0,100))"
   ]
  }
 ],
 "metadata": {
  "kernelspec": {
   "display_name": "Python 3",
   "language": "python",
   "name": "python3"
  },
  "language_info": {
   "codemirror_mode": {
    "name": "ipython",
    "version": 3
   },
   "file_extension": ".py",
   "mimetype": "text/x-python",
   "name": "python",
   "nbconvert_exporter": "python",
   "pygments_lexer": "ipython3",
   "version": "3.6.2"
  }
 },
 "nbformat": 4,
 "nbformat_minor": 2
}
