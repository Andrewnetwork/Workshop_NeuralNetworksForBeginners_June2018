{
  "cells": [
    {
      "metadata": {
        "_uuid": "8f2839f25d086af736a60e9eeb907d3b93b6e0e5",
        "_cell_guid": "b1076dfc-b9ad-4769-8c92-a6c4dae69d19",
        "trusted": true,
        "collapsed": true
      },
      "cell_type": "code",
      "source": "import pandas as pd\nimport numpy as np\nimport scipy.io as sio\nimport os\nimport matplotlib.pyplot as plt\nfrom ipywidgets import interact\nfrom keras.layers import Input, Dense, Dropout,Conv2D,MaxPooling2D,Flatten\nfrom keras.layers import GlobalMaxPooling2D,UpSampling2D,GlobalMaxPooling1D\nfrom keras.models import Model\nfrom keras.utils import to_categorical\nfrom sklearn.model_selection import train_test_split\n\n# Print out the folders where our datasets live. \nprint(\"Datasets: {0}\".format(os.listdir(\"../input/danburyaijuneworkshop/\")))",
      "execution_count": 1,
      "outputs": []
    },
    {
      "metadata": {
        "_cell_guid": "79c7e3d0-c299-4dcb-8224-4455121ee9b0",
        "_uuid": "d629ff2d2480ee46fbb7e2d37f6b5fab8052498a",
        "trusted": true,
        "collapsed": true
      },
      "cell_type": "code",
      "source": "train_x = np.load(\"../input/train_x.npy\")\ntrain_y = np.load(\"train_y.npy\")\ntrain_y = train_y - 1\ntest_x  = np.load(\"test.npy\")",
      "execution_count": 7,
      "outputs": []
    },
    {
      "metadata": {
        "trusted": true,
        "collapsed": true,
        "_uuid": "fa16a2434fb3946e88f5e42972de7fe63262c95f"
      },
      "cell_type": "code",
      "source": "def makeModel(inputSize):\n    inputs = Input(shape=inputSize,name=\"input\")\n    x = Conv2D(32, (3, 3), padding='same', activation='relu')(inputs)\n    x = MaxPooling2D(pool_size=(2, 2), strides=None, padding='valid')(x)\n    x = Conv2D(32, (3, 3), padding='same', activation='relu')(x)\n    x = GlobalMaxPooling2D()(x)\n    x = Dense(100,activation='relu')(x)\n    out = Dense(10,activation='softmax', name=\"output\")(x)\n\n    model = Model(inputs=inputs, outputs=out)\n    model.compile(optimizer=\"adam\",loss=\"categorical_crossentropy\",metrics=['acc'])\n    \n    return model\n\ndef learningCurves(hist):\n    histLoss_train      = hist.history['loss']\n    epochs = len(histLoss_train)\n    \n    plt.figure(figsize=(12,12))\n    \n    plt.plot(range(epochs),histLoss_train, label=\"Training Loss\", color=\"#acc6ef\")\n\n\n    plt.xlabel('Epochs',fontsize=14)\n    plt.title(\"Learning Curves\",fontsize=20)\n\n    plt.legend()\n    plt.show()",
      "execution_count": null,
      "outputs": []
    },
    {
      "metadata": {
        "trusted": true,
        "collapsed": true,
        "_uuid": "1e1719476303c1d504c04d808c4efbece9573fc6"
      },
      "cell_type": "code",
      "source": "model2 = makeModel((32,32,3,))\nmodel2.summary()\nhist2 = model2.fit(train_x, to_categorical(train_y,10),batch_size=100,epochs=500)",
      "execution_count": null,
      "outputs": []
    },
    {
      "metadata": {
        "trusted": true,
        "collapsed": true,
        "_uuid": "3e7d8a08d71015e7959c078e3e20e10c15f9788b"
      },
      "cell_type": "code",
      "source": "learningCurves(hist2)",
      "execution_count": null,
      "outputs": []
    },
    {
      "metadata": {
        "trusted": true,
        "collapsed": true,
        "_uuid": "8ff83aa2fdfa4bf76643ebeb03ed596e9ee4b85d"
      },
      "cell_type": "code",
      "source": "pred = model2.predict(test_x)\npred = np.argmax(pred,1)\npred = pred + 1",
      "execution_count": null,
      "outputs": []
    },
    {
      "metadata": {
        "trusted": true,
        "collapsed": true,
        "_uuid": "edd758d15b34a45a7b85ab37aa195a166f6e1fcb"
      },
      "cell_type": "code",
      "source": "submission = pd.DataFrame.from_items([\n    ('id',list(range(pred.shape[0]))),\n    ('label', pred)])\n\nsubmission.to_csv('submission.csv', index = False)",
      "execution_count": null,
      "outputs": []
    }
  ],
  "metadata": {
    "kernelspec": {
      "display_name": "Python 3",
      "language": "python",
      "name": "python3"
    },
    "language_info": {
      "name": "python",
      "version": "3.6.5",
      "mimetype": "text/x-python",
      "codemirror_mode": {
        "name": "ipython",
        "version": 3
      },
      "pygments_lexer": "ipython3",
      "nbconvert_exporter": "python",
      "file_extension": ".py"
    }
  },
  "nbformat": 4,
  "nbformat_minor": 1
}