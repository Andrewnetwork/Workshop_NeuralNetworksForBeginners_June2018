{
 "cells": [
  {
   "cell_type": "markdown",
   "metadata": {
    "_uuid": "0b17036d711907c0f0c129f6cfa2de547442c74d"
   },
   "source": [
    "$$ \\huge\\text{Neural Titanic} $$\n",
    "\n",
    "$$ \\small\\text{Titanic: Machine Learning from Disaster}$$\n",
    "\n",
    "$$ \\large\\text{Andrew Ribeiro - June 2018 -  Andrew@kexp.io }$$\n",
    "![Titanic](notebook_images/4679-004-8C0793EF.jpg)\n",
    "**Index**\n",
    "1. Introduction \n",
    "    1. About this Notebook \n",
    "    2. Competition Overview\n",
    "2. Import Libraries and Load Data\n",
    "3. Exploratory Data Analysis ( EDA )\n",
    "    1. Visualizations \n",
    "    2. Basic Questions\n",
    "    3. Naive Baselines\n",
    "4. Extract, Transform, and Load ( ETL )\n",
    "    1. Preprocess Data\n",
    "    2. Validation/Training Split\n",
    "5. Modeling\n",
    "    1. Setup Neural Network\n",
    "    2. Train Network\n",
    "6. Evaluation\n",
    "    1. Learning Curves \n",
    "    2. Cross-Validation \n",
    "    3. Confusion Matrix\n",
    "7. Application to Test Set\n",
    "8. Next Steps"
   ]
  },
  {
   "cell_type": "markdown",
   "metadata": {
    "_uuid": "584c3b3f16189a49e4b35ba25f8cc843f748324c"
   },
   "source": [
    "\n",
    "# 1. Introduction\n",
    "**About this Notebook **\n",
    "\n",
    "**Competition Overview  **\n",
    "\n",
    "The sinking of the RMS Titanic is one of the most infamous shipwrecks in history.  On April 15, 1912, during her maiden voyage, the Titanic sank after colliding with an iceberg, killing 1502 out of 2224 passengers and crew. This sensational tragedy shocked the international community and led to better safety regulations for ships.\n",
    "\n",
    "One of the reasons that the shipwreck led to such loss of life was that there were not enough lifeboats for the passengers and crew. Although there was some element of luck involved in surviving the sinking, some groups of people were more likely to survive than others, such as women, children, and the upper-class.\n",
    "\n",
    "In this challenge, we ask you to complete the analysis of what sorts of people were likely to survive. In particular, we ask you to apply the tools of machine learning to predict which passengers survived the tragedy.\n",
    "\n",
    "# 2. Import Libraries and Load Data"
   ]
  },
  {
   "cell_type": "code",
   "execution_count": 193,
   "metadata": {
    "_cell_guid": "b1076dfc-b9ad-4769-8c92-a6c4dae69d19",
    "_uuid": "8f2839f25d086af736a60e9eeb907d3b93b6e0e5"
   },
   "outputs": [],
   "source": [
    "# This Python 3 environment comes with many helpful analytics libraries installed\n",
    "# It is defined by the kaggle/python docker image: https://github.com/kaggle/docker-python\n",
    "# For example, here's several helpful packages to load in \n",
    "\n",
    "# General Libraries \n",
    "import numpy as np # linear algebra\n",
    "import pandas as pd # data processing, CSV file I/O (e.g. pd.read_csv)\n",
    "import matplotlib.pyplot as plt\n",
    "import os\n",
    "\n",
    "# Scikit-Learn Libraries\n",
    "from sklearn.metrics import log_loss\n",
    "from sklearn.model_selection import StratifiedKFold\n",
    "from sklearn.preprocessing import MinMaxScaler\n",
    "from sklearn.model_selection import train_test_split\n",
    "\n",
    "# Keras Libraries \n",
    "from keras.callbacks import ModelCheckpoint,EarlyStopping\n",
    "from keras.models import load_model\n",
    "from keras.layers import Input, Dense, Dropout\n",
    "from keras.models import Model\n",
    "\n",
    "# Interactive Widgets\n",
    "from ipywidgets import interact\n",
    "\n",
    "# Load Data\n",
    "trainDF = pd.read_csv(\"./data/titanic/train.csv\")\n",
    "testDF = pd.read_csv(\"./data/titanic/test.csv\")"
   ]
  },
  {
   "cell_type": "markdown",
   "metadata": {},
   "source": [
    "# 2. Exploratory Data Analysis ( EDA )\n",
    "We will begin by exploring the dataset. Getting a feel for the data helps us determine what features we want to use in our model and how we may process them in the ETL stage. In addition, we will compute some baselines based on our initial understanding of the data and use them later when we are evaluating our model's performance. "
   ]
  },
  {
   "cell_type": "code",
   "execution_count": 46,
   "metadata": {},
   "outputs": [
    {
     "data": {
      "text/html": [
       "<div>\n",
       "<style scoped>\n",
       "    .dataframe tbody tr th:only-of-type {\n",
       "        vertical-align: middle;\n",
       "    }\n",
       "\n",
       "    .dataframe tbody tr th {\n",
       "        vertical-align: top;\n",
       "    }\n",
       "\n",
       "    .dataframe thead th {\n",
       "        text-align: right;\n",
       "    }\n",
       "</style>\n",
       "<table border=\"1\" class=\"dataframe\">\n",
       "  <thead>\n",
       "    <tr style=\"text-align: right;\">\n",
       "      <th></th>\n",
       "      <th>PassengerId</th>\n",
       "      <th>Survived</th>\n",
       "      <th>Pclass</th>\n",
       "      <th>Name</th>\n",
       "      <th>Sex</th>\n",
       "      <th>Age</th>\n",
       "      <th>SibSp</th>\n",
       "      <th>Parch</th>\n",
       "      <th>Ticket</th>\n",
       "      <th>Fare</th>\n",
       "      <th>Cabin</th>\n",
       "      <th>Embarked</th>\n",
       "    </tr>\n",
       "  </thead>\n",
       "  <tbody>\n",
       "    <tr>\n",
       "      <th>0</th>\n",
       "      <td>1</td>\n",
       "      <td>0</td>\n",
       "      <td>3</td>\n",
       "      <td>Braund, Mr. Owen Harris</td>\n",
       "      <td>male</td>\n",
       "      <td>22.0</td>\n",
       "      <td>1</td>\n",
       "      <td>0</td>\n",
       "      <td>A/5 21171</td>\n",
       "      <td>7.2500</td>\n",
       "      <td>NaN</td>\n",
       "      <td>S</td>\n",
       "    </tr>\n",
       "    <tr>\n",
       "      <th>1</th>\n",
       "      <td>2</td>\n",
       "      <td>1</td>\n",
       "      <td>1</td>\n",
       "      <td>Cumings, Mrs. John Bradley (Florence Briggs Th...</td>\n",
       "      <td>female</td>\n",
       "      <td>38.0</td>\n",
       "      <td>1</td>\n",
       "      <td>0</td>\n",
       "      <td>PC 17599</td>\n",
       "      <td>71.2833</td>\n",
       "      <td>C85</td>\n",
       "      <td>C</td>\n",
       "    </tr>\n",
       "    <tr>\n",
       "      <th>2</th>\n",
       "      <td>3</td>\n",
       "      <td>1</td>\n",
       "      <td>3</td>\n",
       "      <td>Heikkinen, Miss. Laina</td>\n",
       "      <td>female</td>\n",
       "      <td>26.0</td>\n",
       "      <td>0</td>\n",
       "      <td>0</td>\n",
       "      <td>STON/O2. 3101282</td>\n",
       "      <td>7.9250</td>\n",
       "      <td>NaN</td>\n",
       "      <td>S</td>\n",
       "    </tr>\n",
       "    <tr>\n",
       "      <th>3</th>\n",
       "      <td>4</td>\n",
       "      <td>1</td>\n",
       "      <td>1</td>\n",
       "      <td>Futrelle, Mrs. Jacques Heath (Lily May Peel)</td>\n",
       "      <td>female</td>\n",
       "      <td>35.0</td>\n",
       "      <td>1</td>\n",
       "      <td>0</td>\n",
       "      <td>113803</td>\n",
       "      <td>53.1000</td>\n",
       "      <td>C123</td>\n",
       "      <td>S</td>\n",
       "    </tr>\n",
       "    <tr>\n",
       "      <th>4</th>\n",
       "      <td>5</td>\n",
       "      <td>0</td>\n",
       "      <td>3</td>\n",
       "      <td>Allen, Mr. William Henry</td>\n",
       "      <td>male</td>\n",
       "      <td>35.0</td>\n",
       "      <td>0</td>\n",
       "      <td>0</td>\n",
       "      <td>373450</td>\n",
       "      <td>8.0500</td>\n",
       "      <td>NaN</td>\n",
       "      <td>S</td>\n",
       "    </tr>\n",
       "    <tr>\n",
       "      <th>5</th>\n",
       "      <td>6</td>\n",
       "      <td>0</td>\n",
       "      <td>3</td>\n",
       "      <td>Moran, Mr. James</td>\n",
       "      <td>male</td>\n",
       "      <td>NaN</td>\n",
       "      <td>0</td>\n",
       "      <td>0</td>\n",
       "      <td>330877</td>\n",
       "      <td>8.4583</td>\n",
       "      <td>NaN</td>\n",
       "      <td>Q</td>\n",
       "    </tr>\n",
       "    <tr>\n",
       "      <th>6</th>\n",
       "      <td>7</td>\n",
       "      <td>0</td>\n",
       "      <td>1</td>\n",
       "      <td>McCarthy, Mr. Timothy J</td>\n",
       "      <td>male</td>\n",
       "      <td>54.0</td>\n",
       "      <td>0</td>\n",
       "      <td>0</td>\n",
       "      <td>17463</td>\n",
       "      <td>51.8625</td>\n",
       "      <td>E46</td>\n",
       "      <td>S</td>\n",
       "    </tr>\n",
       "    <tr>\n",
       "      <th>7</th>\n",
       "      <td>8</td>\n",
       "      <td>0</td>\n",
       "      <td>3</td>\n",
       "      <td>Palsson, Master. Gosta Leonard</td>\n",
       "      <td>male</td>\n",
       "      <td>2.0</td>\n",
       "      <td>3</td>\n",
       "      <td>1</td>\n",
       "      <td>349909</td>\n",
       "      <td>21.0750</td>\n",
       "      <td>NaN</td>\n",
       "      <td>S</td>\n",
       "    </tr>\n",
       "    <tr>\n",
       "      <th>8</th>\n",
       "      <td>9</td>\n",
       "      <td>1</td>\n",
       "      <td>3</td>\n",
       "      <td>Johnson, Mrs. Oscar W (Elisabeth Vilhelmina Berg)</td>\n",
       "      <td>female</td>\n",
       "      <td>27.0</td>\n",
       "      <td>0</td>\n",
       "      <td>2</td>\n",
       "      <td>347742</td>\n",
       "      <td>11.1333</td>\n",
       "      <td>NaN</td>\n",
       "      <td>S</td>\n",
       "    </tr>\n",
       "    <tr>\n",
       "      <th>9</th>\n",
       "      <td>10</td>\n",
       "      <td>1</td>\n",
       "      <td>2</td>\n",
       "      <td>Nasser, Mrs. Nicholas (Adele Achem)</td>\n",
       "      <td>female</td>\n",
       "      <td>14.0</td>\n",
       "      <td>1</td>\n",
       "      <td>0</td>\n",
       "      <td>237736</td>\n",
       "      <td>30.0708</td>\n",
       "      <td>NaN</td>\n",
       "      <td>C</td>\n",
       "    </tr>\n",
       "  </tbody>\n",
       "</table>\n",
       "</div>"
      ],
      "text/plain": [
       "   PassengerId  Survived  Pclass  \\\n",
       "0            1         0       3   \n",
       "1            2         1       1   \n",
       "2            3         1       3   \n",
       "3            4         1       1   \n",
       "4            5         0       3   \n",
       "5            6         0       3   \n",
       "6            7         0       1   \n",
       "7            8         0       3   \n",
       "8            9         1       3   \n",
       "9           10         1       2   \n",
       "\n",
       "                                                Name     Sex   Age  SibSp  \\\n",
       "0                            Braund, Mr. Owen Harris    male  22.0      1   \n",
       "1  Cumings, Mrs. John Bradley (Florence Briggs Th...  female  38.0      1   \n",
       "2                             Heikkinen, Miss. Laina  female  26.0      0   \n",
       "3       Futrelle, Mrs. Jacques Heath (Lily May Peel)  female  35.0      1   \n",
       "4                           Allen, Mr. William Henry    male  35.0      0   \n",
       "5                                   Moran, Mr. James    male   NaN      0   \n",
       "6                            McCarthy, Mr. Timothy J    male  54.0      0   \n",
       "7                     Palsson, Master. Gosta Leonard    male   2.0      3   \n",
       "8  Johnson, Mrs. Oscar W (Elisabeth Vilhelmina Berg)  female  27.0      0   \n",
       "9                Nasser, Mrs. Nicholas (Adele Achem)  female  14.0      1   \n",
       "\n",
       "   Parch            Ticket     Fare Cabin Embarked  \n",
       "0      0         A/5 21171   7.2500   NaN        S  \n",
       "1      0          PC 17599  71.2833   C85        C  \n",
       "2      0  STON/O2. 3101282   7.9250   NaN        S  \n",
       "3      0            113803  53.1000  C123        S  \n",
       "4      0            373450   8.0500   NaN        S  \n",
       "5      0            330877   8.4583   NaN        Q  \n",
       "6      0             17463  51.8625   E46        S  \n",
       "7      1            349909  21.0750   NaN        S  \n",
       "8      2            347742  11.1333   NaN        S  \n",
       "9      0            237736  30.0708   NaN        C  "
      ]
     },
     "execution_count": 46,
     "metadata": {},
     "output_type": "execute_result"
    }
   ],
   "source": [
    "# Show the head of the data. \n",
    "trainDF.head(10)"
   ]
  },
  {
   "cell_type": "markdown",
   "metadata": {},
   "source": [
    "### Visualizations"
   ]
  },
  {
   "cell_type": "code",
   "execution_count": 173,
   "metadata": {},
   "outputs": [
    {
     "data": {
      "image/png": "[encoded data removed]",
      "text/plain": [
       "<matplotlib.figure.Figure at 0x2970632d6d8>"
      ]
     },
     "metadata": {},
     "output_type": "display_data"
    }
   ],
   "source": [
    "nRows = 3\n",
    "nCols = 3\n",
    "\n",
    "plt.figure(figsize=(6*3,6*3))\n",
    "plt.subplot(nRows,nCols,1)\n",
    "\n",
    "trainDF[\"Survived\"].value_counts().plot.pie(autopct=\"%.2f%%\")\n",
    "\n",
    "plt.subplot(nRows,nCols,2)\n",
    "trainDF[\"Sex\"].value_counts().plot.pie(autopct=\"%.2f%%\")\n",
    "\n",
    "plt.subplot(nRows,nCols,3)\n",
    "trainDF[\"Pclass\"].value_counts().plot.pie()\n",
    "\n",
    "plt.subplot(nRows,nCols,4)\n",
    "trainDF[\"SibSp\"].value_counts().plot.pie()\n",
    "\n",
    "plt.subplot(nRows,nCols,5)\n",
    "trainDF[\"Parch\"].value_counts().plot.pie()\n",
    "\n",
    "plt.subplot(nRows,nCols,6)\n",
    "trainDF[\"Embarked\"].value_counts().plot.pie()\n",
    "\n",
    "plt.subplot(nRows,nCols,7)\n",
    "plt.title(\"Age Histogram\")\n",
    "trainDF[\"Age\"].hist()\n",
    "\n",
    "plt.subplot(nRows,nCols,8)\n",
    "plt.title(\"Fare Histogram\")\n",
    "trainDF[\"Fare\"].hist()\n",
    "\n",
    "plt.show()"
   ]
  },
  {
   "cell_type": "markdown",
   "metadata": {},
   "source": [
    "From the visualizations, we can make the following observations: \n",
    "* The distribution of the genders is very similar to the distribution of survivors. We know from history that there was a policy on ships to give precedence to women and children when boarding the liferafts, so this result is not surprising; however, the distributions are different, so some men did board the liferafts. "
   ]
  },
  {
   "cell_type": "markdown",
   "metadata": {},
   "source": [
    "### Basic Questions"
   ]
  },
  {
   "cell_type": "markdown",
   "metadata": {},
   "source": [
    "**1.) How many passengers are children?** \n",
    "\n",
    "We ask this question because we would like to determine which men were children, since we know being a woman or child has a better chance of being on the lifeboats and therefore has a greater chance of survival. The most obvious fields for deriving this feature are: Age, PArch, and SibSp. We will use age here. We must, however, make an assumption as to what age marks a child."
   ]
  },
  {
   "cell_type": "code",
   "execution_count": 196,
   "metadata": {},
   "outputs": [
    {
     "data": {
      "application/vnd.jupyter.widget-view+json": {
       "model_id": "8f8d2b3417644749ac9eb99f15255179",
       "version_major": 2,
       "version_minor": 0
      },
      "text/html": [
       "<p>Failed to display Jupyter Widget of type <code>interactive</code>.</p>\n",
       "<p>\n",
       "  If you're reading this message in the Jupyter Notebook or JupyterLab Notebook, it may mean\n",
       "  that the widgets JavaScript is still loading. If this message persists, it\n",
       "  likely means that the widgets JavaScript library is either not installed or\n",
       "  not enabled. See the <a href=\"https://ipywidgets.readthedocs.io/en/stable/user_install.html\">Jupyter\n",
       "  Widgets Documentation</a> for setup instructions.\n",
       "</p>\n",
       "<p>\n",
       "  If you're reading this message in another frontend (for example, a static\n",
       "  rendering on GitHub or <a href=\"https://nbviewer.jupyter.org/\">NBViewer</a>),\n",
       "  it may mean that your frontend doesn't currently support widgets.\n",
       "</p>\n"
      ],
      "text/plain": [
       "interactive(children=(IntSlider(value=10, description='childThresh'), Output()), _dom_classes=('widget-interact',))"
      ]
     },
     "metadata": {},
     "output_type": "display_data"
    }
   ],
   "source": [
    "# Plot\n",
    "def plotChilds(childThresh=10):\n",
    "    plt.figure(figsize=(6,6))\n",
    "    childFeat = trainDF[\"Age\"].map(lambda x: x<childThresh)\n",
    "    childFeat.value_counts().plot.pie(autopct=\"%.2f%%\")\n",
    "    plt.show()\n",
    "\n",
    "interact(plotChilds,childThresh=(0,100))\n",
    "\n",
    "childThresh = 10\n",
    "newDF = trainDF.assign(isChild=trainDF[\"Age\"].map(lambda x: x<childThresh))"
   ]
  },
  {
   "cell_type": "markdown",
   "metadata": {},
   "source": [
    "### Naive Baselines"
   ]
  },
  {
   "cell_type": "code",
   "execution_count": 179,
   "metadata": {},
   "outputs": [
    {
     "name": "stdout",
     "output_type": "stream",
     "text": [
      "Mean Baseline: 0.6659119735267652\n",
      "Gender Baseline: 0.7867564534231201\n"
     ]
    }
   ],
   "source": [
    "def meanBaseline(df):\n",
    "    nRows = df[\"Survived\"].shape[0]\n",
    "    mean = df[\"Survived\"].sum()/nRows\n",
    "    return log_loss(df[\"Survived\"],np.full(nRows,mean))\n",
    "\n",
    "def genderBaseline(df):\n",
    "    nRows = df[\"Survived\"].shape[0]\n",
    "    pred = df[\"Sex\"].map(lambda x: 1 if x == \"female\" else 0)\n",
    "    res = df[\"Survived\"]==pred\n",
    "    return res.sum()/res.count()\n",
    "\n",
    "print(\"Mean Baseline: {0}\".format(meanBaseline(trainDF)))\n",
    "print(\"Gender Baseline: {0}\".format(genderBaseline(trainDF)))"
   ]
  },
  {
   "cell_type": "markdown",
   "metadata": {
    "_uuid": "bdc3623e54ce85d16f24e82cce2edd14df311cde"
   },
   "source": [
    "#  3. Extract, Transform, and Load ( ETL )\n",
    "\n",
    "### Preprocess Data"
   ]
  },
  {
   "cell_type": "code",
   "execution_count": 3,
   "metadata": {
    "_uuid": "76ce337fd43f5e5f523a6fe55ab2d311689b7a56"
   },
   "outputs": [],
   "source": [
    "def preprocessRow(row):\n",
    "    sex = [0,0]\n",
    "    embarked = [0,0,0]\n",
    "    \n",
    "    if row[\"Sex\"] == \"male\":\n",
    "        sex = [0,1]\n",
    "    elif row[\"Sex\"] == \"female\":\n",
    "        sex = [1,0]\n",
    "    \n",
    "    if row[\"Embarked\"] == \"S\":\n",
    "        embarked = [0,0,1]\n",
    "    elif row[\"Embarked\"] == \"C\":\n",
    "        embarked = [0,1,0]\n",
    "    elif row[\"Embarked\"] == \"Q\":\n",
    "        embarked = [1,0,0]\n",
    "        \n",
    "    return [row[\"Pclass\"]]+sex+[row[\"Age\"],row[\"SibSp\"],row[\"Parch\"],row[\"Fare\"]]+embarked\n",
    "\n",
    "# \n",
    "testDF = testDF.fillna(0)\n",
    "trainDF = trainDF.fillna(0).sample(frac=1)\n",
    "\n",
    "data = np.stack(trainDF.apply(preprocessRow,axis=1))"
   ]
  },
  {
   "cell_type": "markdown",
   "metadata": {},
   "source": [
    "### Validation/Training Split\n",
    "In order to plot our learning curves, which allow us to understand how well our model is performing, we need a training and validation set. We train on the training set and hold out the validation set. Since our model is not exposed to the validation data during training, we can use it to determine how well our model generalizes to new data. "
   ]
  },
  {
   "cell_type": "code",
   "execution_count": 4,
   "metadata": {
    "_uuid": "c404eaf1d1ea7c6d9d08a691d88cad66f8b0a85b"
   },
   "outputs": [],
   "source": [
    "X, y = [data, trainDF[\"Survived\"].as_matrix()]\n",
    "train_x, validation_x, train_y , validation_y = train_test_split(data, trainDF[\"Survived\"].as_matrix(), test_size=0.2)"
   ]
  },
  {
   "cell_type": "markdown",
   "metadata": {
    "_uuid": "1647f4af97d936775b9d931c9cc822d75dc598fd"
   },
   "source": [
    "# 4. Modeling\n",
    "### Neural Network Setup"
   ]
  },
  {
   "cell_type": "code",
   "execution_count": 180,
   "metadata": {
    "_uuid": "0ad7431efca15de65af9977d90ef8ba580c65029"
   },
   "outputs": [
    {
     "name": "stdout",
     "output_type": "stream",
     "text": [
      "_________________________________________________________________\n",
      "Layer (type)                 Output Shape              Param #   \n",
      "=================================================================\n",
      "input (InputLayer)           (None, 10)                0         \n",
      "_________________________________________________________________\n",
      "fc0 (Dense)                  (None, 100)               1100      \n",
      "_________________________________________________________________\n",
      "fc_dropout_0 (Dropout)       (None, 100)               0         \n",
      "_________________________________________________________________\n",
      "fc1 (Dense)                  (None, 100)               10100     \n",
      "_________________________________________________________________\n",
      "fc_dropout_1 (Dropout)       (None, 100)               0         \n",
      "_________________________________________________________________\n",
      "fc2 (Dense)                  (None, 100)               10100     \n",
      "_________________________________________________________________\n",
      "fc_dropout_2 (Dropout)       (None, 100)               0         \n",
      "_________________________________________________________________\n",
      "fc3 (Dense)                  (None, 100)               10100     \n",
      "_________________________________________________________________\n",
      "fc_dropout_3 (Dropout)       (None, 100)               0         \n",
      "_________________________________________________________________\n",
      "fc4 (Dense)                  (None, 100)               10100     \n",
      "_________________________________________________________________\n",
      "fc_dropout_4 (Dropout)       (None, 100)               0         \n",
      "_________________________________________________________________\n",
      "fc5 (Dense)                  (None, 100)               10100     \n",
      "_________________________________________________________________\n",
      "fc_dropout_5 (Dropout)       (None, 100)               0         \n",
      "_________________________________________________________________\n",
      "output (Dense)               (None, 1)                 101       \n",
      "=================================================================\n",
      "Total params: 51,701\n",
      "Trainable params: 51,701\n",
      "Non-trainable params: 0\n",
      "_________________________________________________________________\n"
     ]
    }
   ],
   "source": [
    "# Model Hyperparameters \n",
    "nLayers = 6\n",
    "layerSize = 20*5\n",
    "dropoutPercent = 0.74 # Regularization \n",
    "lossFn = 'binary_crossentropy'\n",
    "optimizer = 'adam'\n",
    "\n",
    "# Model Architecture \n",
    "def makeModel(nLayers,layerSize,dropoutPercent,lossFn,optimizer):\n",
    "    inputs = Input(shape=(train_x.shape[1],),name=\"input\")\n",
    "    x = None \n",
    "    \n",
    "    for layer in range(nLayers):\n",
    "        if x == None:\n",
    "            x = inputs\n",
    "\n",
    "        x = Dense(layerSize, activation='sigmoid',name=\"fc\"+str(layer))(x)\n",
    "        x = Dropout(dropoutPercent,name=\"fc_dropout_\"+str(layer))(x)\n",
    "\n",
    "    out = Dense(1,activation='sigmoid', name=\"output\")(x)\n",
    "\n",
    "    model = Model(inputs=inputs, outputs=out)\n",
    "    model.compile(optimizer=optimizer,\n",
    "                  loss=lossFn,\n",
    "                  metrics=['acc'])\n",
    "    \n",
    "    return model\n",
    "\n",
    "\n",
    "modelMain = makeModel(nLayers,layerSize,dropoutPercent,lossFn,optimizer)\n",
    "modelMain.summary()"
   ]
  },
  {
   "cell_type": "markdown",
   "metadata": {
    "_uuid": "2de26fcb26b5ad200bfd4ce86902d1f04ef6f2b0"
   },
   "source": [
    "### Training \n",
    "We will now train our neural network on the training data. "
   ]
  },
  {
   "cell_type": "code",
   "execution_count": 181,
   "metadata": {},
   "outputs": [],
   "source": [
    "# Training Hyperparameters\n",
    "batch_size = 300\n",
    "epochs = 6000\n",
    "\n",
    "# We create a callback that saves the best model in respect to maximizing validation accuracy.\n",
    "checkpoint =  ModelCheckpoint(monitor='val_acc',filepath='bestModel.hdf5', verbose=0, save_best_only=True)\n",
    "\n",
    "# Here we train the model on the training data and store the training history so we can evaluate it in the next step. \n",
    "hist = modelMain.fit(train_x, train_y,validation_data=(validation_x,validation_y),\n",
    "                     callbacks=[checkpoint], batch_size=batch_size,epochs=epochs, verbose=0)"
   ]
  },
  {
   "cell_type": "markdown",
   "metadata": {
    "_uuid": "4ccc5edd73c54c47dfea7f042cdf7b1616689042"
   },
   "source": [
    "# 5. Evaluation\n",
    "At this point we have defined a neural network and trained it. In this section, we will use three methods for evaluating how well our neural network models the data. When doing data science in practice, you would go between evaluating the model and changing the parameters or having an algorithm like grid-search do it for you.\n",
    "\n",
    "### Learning Curves "
   ]
  },
  {
   "cell_type": "code",
   "execution_count": 182,
   "metadata": {
    "_uuid": "d72797ab9538342d39e8a3f8977477cf2da80af0"
   },
   "outputs": [
    {
     "ename": "TypeError",
     "evalue": "meanBaseline() missing 1 required positional argument: 'df'",
     "output_type": "error",
     "traceback": [
      "\u001b[1;31m---------------------------------------------------------------------------\u001b[0m",
      "\u001b[1;31mTypeError\u001b[0m                                 Traceback (most recent call last)",
      "\u001b[1;32m<ipython-input-182-8f4b3cb573fe>\u001b[0m in \u001b[0;36m<module>\u001b[1;34m()\u001b[0m\n\u001b[0;32m     29\u001b[0m     \u001b[0mprint\u001b[0m\u001b[1;33m(\u001b[0m\u001b[1;34m\"Minimum validation loss: {0}\"\u001b[0m\u001b[1;33m.\u001b[0m\u001b[0mformat\u001b[0m\u001b[1;33m(\u001b[0m\u001b[0mminValLoss\u001b[0m\u001b[1;33m)\u001b[0m\u001b[1;33m)\u001b[0m\u001b[1;33m\u001b[0m\u001b[0m\n\u001b[0;32m     30\u001b[0m \u001b[1;33m\u001b[0m\u001b[0m\n\u001b[1;32m---> 31\u001b[1;33m \u001b[0mlearningCurves\u001b[0m\u001b[1;33m(\u001b[0m\u001b[0mhist\u001b[0m\u001b[1;33m)\u001b[0m\u001b[1;33m\u001b[0m\u001b[0m\n\u001b[0m",
      "\u001b[1;32m<ipython-input-182-8f4b3cb573fe>\u001b[0m in \u001b[0;36mlearningCurves\u001b[1;34m(hist)\u001b[0m\n\u001b[0;32m      9\u001b[0m     \u001b[0mplt\u001b[0m\u001b[1;33m.\u001b[0m\u001b[0mfigure\u001b[0m\u001b[1;33m(\u001b[0m\u001b[0mfigsize\u001b[0m\u001b[1;33m=\u001b[0m\u001b[1;33m(\u001b[0m\u001b[1;36m12\u001b[0m\u001b[1;33m,\u001b[0m\u001b[1;36m12\u001b[0m\u001b[1;33m)\u001b[0m\u001b[1;33m)\u001b[0m\u001b[1;33m\u001b[0m\u001b[0m\n\u001b[0;32m     10\u001b[0m \u001b[1;33m\u001b[0m\u001b[0m\n\u001b[1;32m---> 11\u001b[1;33m     \u001b[0mplt\u001b[0m\u001b[1;33m.\u001b[0m\u001b[0mplot\u001b[0m\u001b[1;33m(\u001b[0m\u001b[0mrange\u001b[0m\u001b[1;33m(\u001b[0m\u001b[0mepochs\u001b[0m\u001b[1;33m)\u001b[0m\u001b[1;33m,\u001b[0m\u001b[0mnp\u001b[0m\u001b[1;33m.\u001b[0m\u001b[0mfull\u001b[0m\u001b[1;33m(\u001b[0m\u001b[0mepochs\u001b[0m\u001b[1;33m,\u001b[0m\u001b[0mmeanBaseline\u001b[0m\u001b[1;33m(\u001b[0m\u001b[1;33m)\u001b[0m\u001b[1;33m)\u001b[0m\u001b[1;33m,\u001b[0m\u001b[0mlabel\u001b[0m\u001b[1;33m=\u001b[0m\u001b[1;34m\"Unbiased Estimator\"\u001b[0m\u001b[1;33m,\u001b[0m \u001b[0mcolor\u001b[0m\u001b[1;33m=\u001b[0m\u001b[1;34m\"red\"\u001b[0m\u001b[1;33m)\u001b[0m\u001b[1;33m\u001b[0m\u001b[0m\n\u001b[0m\u001b[0;32m     12\u001b[0m \u001b[1;33m\u001b[0m\u001b[0m\n\u001b[0;32m     13\u001b[0m     \u001b[0mplt\u001b[0m\u001b[1;33m.\u001b[0m\u001b[0mplot\u001b[0m\u001b[1;33m(\u001b[0m\u001b[0mrange\u001b[0m\u001b[1;33m(\u001b[0m\u001b[0mepochs\u001b[0m\u001b[1;33m)\u001b[0m\u001b[1;33m,\u001b[0m\u001b[0mhistLoss_train\u001b[0m\u001b[1;33m,\u001b[0m \u001b[0mlabel\u001b[0m\u001b[1;33m=\u001b[0m\u001b[1;34m\"Training Loss\"\u001b[0m\u001b[1;33m,\u001b[0m \u001b[0mcolor\u001b[0m\u001b[1;33m=\u001b[0m\u001b[1;34m\"#acc6ef\"\u001b[0m\u001b[1;33m)\u001b[0m\u001b[1;33m\u001b[0m\u001b[0m\n",
      "\u001b[1;31mTypeError\u001b[0m: meanBaseline() missing 1 required positional argument: 'df'"
     ]
    }
   ],
   "source": [
    "def learningCurves(hist):\n",
    "    histAcc_train = hist.history['acc']\n",
    "    histLoss_train = hist.history['loss']\n",
    "    histAcc_validation = hist.history['val_acc']\n",
    "    histLoss_validation = hist.history['val_loss']\n",
    "    maxValAcc = np.max(histAcc_validation)\n",
    "    minValLoss = np.min(histLoss_validation)\n",
    "\n",
    "    plt.figure(figsize=(12,12))\n",
    "\n",
    "    plt.plot(range(epochs),np.full(epochs,meanBaseline()),label=\"Unbiased Estimator\", color=\"red\")\n",
    "\n",
    "    plt.plot(range(epochs),histLoss_train, label=\"Training Loss\", color=\"#acc6ef\")\n",
    "    plt.plot(range(epochs),histAcc_train, label=\"Training Accuracy\", color = \"#005ff9\" )\n",
    "\n",
    "    plt.plot(range(epochs),histLoss_validation, label=\"Validation Loss\", color=\"#a7e295\")\n",
    "    plt.plot(range(epochs),histAcc_validation, label=\"Validation Accuracy\",color=\"#3ddd0d\")\n",
    "\n",
    "    plt.scatter(np.argmax(histAcc_validation),maxValAcc,zorder=10,color=\"green\")\n",
    "    plt.scatter(np.argmin(histLoss_validation),minValLoss,zorder=10,color=\"green\")\n",
    "\n",
    "    plt.xlabel('Epochs',fontsize=14)\n",
    "    plt.title(\"Learning Curves\",fontsize=20)\n",
    "\n",
    "    plt.legend()\n",
    "    plt.show()\n",
    "\n",
    "    print(\"Max validation accuracy: {0}\".format(maxValAcc))\n",
    "    print(\"Minimum validation loss: {0}\".format(minValLoss))\n",
    "\n",
    "learningCurves(hist)"
   ]
  },
  {
   "cell_type": "markdown",
   "metadata": {},
   "source": [
    "### Cross-Validation\n",
    "![](notebook_images/K-fold_cross_validation_EN.jpg)\n",
    "\n",
    "If our learning curve indicates healthy learning ( i.e. the training and validation metrics do not diverge ), we may want to use a cross-validation method in order to get a more accurate estimation of how well our model generalizes to new data. We will use  a technique called called k-fold cross-validation. "
   ]
  },
  {
   "cell_type": "code",
   "execution_count": null,
   "metadata": {
    "scrolled": true
   },
   "outputs": [],
   "source": [
    " # Cross-Validation Parameter \n",
    "kFolds = 10\n",
    "\n",
    "kfold = StratifiedKFold(n_splits=kFolds, shuffle=True)\n",
    "means = []\n",
    "stds = []\n",
    "lossesLs = []\n",
    "accuracyLs = []\n",
    "\n",
    "# Train on k-folds of the data. \n",
    "for train, test in kfold.split(X, y):\n",
    "    \n",
    "    # Create new instance of our model. \n",
    "    model = makeModel()\n",
    "    \n",
    "    # Train the model on this kfold. \n",
    "    model.fit(X[train], y[train],batch_size=batch_size,epochs=epochs, verbose=0)\n",
    "\n",
    "    # Evaluate the model\n",
    "    loss,acc = model.evaluate(X[train], y[train], verbose=0)\n",
    "    \n",
    "    # Log Cross-Validation Data\n",
    "    lossesLs.append(loss)\n",
    "    accuracyLs.append(acc)\n",
    "    mean = np.mean(lossesLs)\n",
    "    std = np.std(lossesLs)\n",
    "    \n",
    "    accuracyMean = np.mean(acc)\n",
    "    accuracyStd = np.std(acc)\n",
    "    means.append(mean)\n",
    "    stds.append(std)\n",
    "    \n",
    "    \n",
    "    print(\"Loss: %.2f%% (+/- %.2f%%) | Accuracy: %.2f%% (+/- %.2f%%)\" % (mean*100,std,accuracyMean*100,accuracyStd))"
   ]
  },
  {
   "cell_type": "markdown",
   "metadata": {},
   "source": [
    "### Confusion Matrix"
   ]
  },
  {
   "cell_type": "markdown",
   "metadata": {
    "_uuid": "0b8734637337bee75f214ed8cdaf24e1e4a115ce"
   },
   "source": [
    "# 6. Application to Test Set\n",
    "Now that we have designed, trained, and evaluated our neural network, we will apply it to the training set and save the results to a csv file which can be uploaded to kaggle for scoring. "
   ]
  },
  {
   "cell_type": "code",
   "execution_count": 114,
   "metadata": {
    "_uuid": "007684acc2c27d0dabd07186d61658c0878d0916"
   },
   "outputs": [],
   "source": [
    "# Load the model with the parameters that yielded the best validation accuracy. \n",
    "#model = load_model(\"bestModel.hdf5\")\n",
    "\n",
    "# The thrshold function which assigns a class of 0 or 1 based on the sigmoid output of the network. \n",
    "def thresholdFn(x):\n",
    "    if(x < 0.5):\n",
    "        return 0\n",
    "    else:\n",
    "        return 1\n",
    "\n",
    "# Apply the model to the test set.\n",
    "pred = modelMain.predict(np.stack(testDF.apply(preprocessRow,axis=1)))\n",
    "\n",
    "# Save the predictions to a CSV file in the format suitable for the competition. \n",
    "data_to_submit = pd.DataFrame.from_items([\n",
    "    ('PassengerId',testDF[\"PassengerId\"]),\n",
    "    ('Survived', pd.Series(np.hstack(pred)).map(thresholdFn))])\n",
    "\n",
    "data_to_submit.to_csv('titanic_submit.csv', index = False)"
   ]
  },
  {
   "cell_type": "markdown",
   "metadata": {
    "_uuid": "3fb2346651abb4185fd8a9d36cbdbd89a7ba776c"
   },
   "source": [
    "# 7. Next Steps\n",
    "This notebook introduced a simple workflow of the stages involved in modeing categorical and continuous tabular data with neural networks. Here are some of the next steps you can take to make your analysis more robust:\n",
    "\n",
    "* Implement a hyperparameter search procedure. A common approach is grid search.\n",
    "* Add more features from the training set. In this notebook we ignore several columns like name and cabin. Figuring out how to include these features will help make better predictions. \n",
    "\n",
    "![](notebook_images/Iceberg_in_the_Arctic_with_its_underside_exposed.jpg)"
   ]
  }
 ],
 "metadata": {
  "kernelspec": {
   "display_name": "Python 3",
   "language": "python",
   "name": "python3"
  },
  "language_info": {
   "codemirror_mode": {
    "name": "ipython",
    "version": 3
   },
   "file_extension": ".py",
   "mimetype": "text/x-python",
   "name": "python",
   "nbconvert_exporter": "python",
   "pygments_lexer": "ipython3",
   "version": "3.6.2"
  }
 },
 "nbformat": 4,
 "nbformat_minor": 1
}
